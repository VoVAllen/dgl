{
 "cells": [
  {
   "cell_type": "code",
   "execution_count": 121,
   "metadata": {},
   "outputs": [],
   "source": [
    "from dgl import model_zoo\n",
    "import torch\n",
    "import rdkit\n",
    "from rdkit import Chem\n",
    "from rdkit.Chem.Draw import IPythonConsole\n",
    "from dgl.data.chem.utils import smile2graph\n",
    "import dgl\n",
    "import torch"
   ]
  },
  {
   "cell_type": "code",
   "execution_count": 122,
   "metadata": {
    "scrolled": true
   },
   "outputs": [
    {
     "name": "stdout",
     "output_type": "stream",
     "text": [
      "Loading pretrained model...\n"
     ]
    },
    {
     "data": {
      "text/plain": [
       "GCNClassifier(\n",
       "  (gcn_layers): ModuleList(\n",
       "    (0): GCNLayer(\n",
       "      (graph_conv): GraphConv(in=74, out=64, normalization=False, activation=<function relu at 0x7f4a95c05620>)\n",
       "      (dropout): Dropout(p=0.0)\n",
       "      (res_connection): Linear(in_features=74, out_features=64, bias=True)\n",
       "      (bn_layer): BatchNorm1d(64, eps=1e-05, momentum=0.1, affine=True, track_running_stats=True)\n",
       "    )\n",
       "    (1): GCNLayer(\n",
       "      (graph_conv): GraphConv(in=64, out=64, normalization=False, activation=<function relu at 0x7f4a95c05620>)\n",
       "      (dropout): Dropout(p=0.0)\n",
       "      (res_connection): Linear(in_features=64, out_features=64, bias=True)\n",
       "      (bn_layer): BatchNorm1d(64, eps=1e-05, momentum=0.1, affine=True, track_running_stats=True)\n",
       "    )\n",
       "  )\n",
       "  (atom_weighting): Sequential(\n",
       "    (0): Linear(in_features=64, out_features=1, bias=True)\n",
       "    (1): Sigmoid()\n",
       "  )\n",
       "  (soft_classifier): MLPBinaryClassifier(\n",
       "    (predict): Sequential(\n",
       "      (0): Dropout(p=0.0)\n",
       "      (1): Linear(in_features=128, out_features=64, bias=True)\n",
       "      (2): ReLU()\n",
       "      (3): BatchNorm1d(64, eps=1e-05, momentum=0.1, affine=True, track_running_stats=True)\n",
       "      (4): Linear(in_features=64, out_features=12, bias=True)\n",
       "    )\n",
       "  )\n",
       ")"
      ]
     },
     "execution_count": 122,
     "metadata": {},
     "output_type": "execute_result"
    }
   ],
   "source": [
    "model = model_zoo.chem.load_pretrained(\"GCN_Tox21\")\n",
    "model.eval()\n",
    "model"
   ]
  },
  {
   "cell_type": "code",
   "execution_count": 123,
   "metadata": {},
   "outputs": [],
   "source": [
    "tasks = ['NR-AR', 'NR-AR-LBD', 'NR-AhR', 'NR-Aromatase',\n",
    "         'NR-ER', 'NR-ER-LBD', 'NR-PPAR-gamma', 'SR-ARE',\n",
    "         'SR-ATAD5', 'SR-HSE', 'SR-MMP', 'SR-p53']"
   ]
  },
  {
   "cell_type": "code",
   "execution_count": 124,
   "metadata": {},
   "outputs": [],
   "source": [
    "smiles = \"CC[NH+](CC)c1ccc(/C=C2\\Oc3c(ccc(OCC(N)=O)c3C)C2=O)cc1\""
   ]
  },
  {
   "cell_type": "code",
   "execution_count": 125,
   "metadata": {},
   "outputs": [
    {
     "data": {
      "image/png": "[encoded data removed]",
      "text/plain": [
       "<rdkit.Chem.rdchem.Mol at 0x7f4a8466df80>"
      ]
     },
     "execution_count": 125,
     "metadata": {},
     "output_type": "execute_result"
    }
   ],
   "source": [
    "m = Chem.MolFromSmiles(smiles)\n",
    "m"
   ]
  },
  {
   "cell_type": "code",
   "execution_count": 126,
   "metadata": {},
   "outputs": [],
   "source": [
    "g = smile2graph(smiles)"
   ]
  },
  {
   "cell_type": "code",
   "execution_count": 127,
   "metadata": {},
   "outputs": [
    {
     "data": {
      "text/plain": [
       "DGLGraph(num_nodes=28, num_edges=60,\n",
       "         ndata_schemes={'h': Scheme(shape=(74,), dtype=torch.float32)}\n",
       "         edata_schemes={})"
      ]
     },
     "execution_count": 127,
     "metadata": {},
     "output_type": "execute_result"
    }
   ],
   "source": [
    "g"
   ]
  },
  {
   "cell_type": "code",
   "execution_count": 128,
   "metadata": {},
   "outputs": [],
   "source": [
    "bg = dgl.batch([g])"
   ]
  },
  {
   "cell_type": "code",
   "execution_count": 129,
   "metadata": {},
   "outputs": [],
   "source": [
    "e_importance = torch.ones((bg.number_of_edges(), 1)).requires_grad_(True)\n",
    "n_importance = bg.ndata['h'].requires_grad_(True)"
   ]
  },
  {
   "cell_type": "code",
   "execution_count": 130,
   "metadata": {},
   "outputs": [],
   "source": [
    "bg.edata['es'] = e_importance"
   ]
  },
  {
   "cell_type": "code",
   "execution_count": 131,
   "metadata": {},
   "outputs": [
    {
     "name": "stderr",
     "output_type": "stream",
     "text": [
      "/home/ubuntu/playground/mz_dgl/python/dgl/base.py:18: UserWarning: Initializer is not set. Use zero initializer instead. To suppress this warning, use `set_initializer` to explicitly specify which initializer to use.\n",
      "  warnings.warn(msg, warn_type)\n"
     ]
    }
   ],
   "source": [
    "logits = model(n_importance, bg)"
   ]
  },
  {
   "cell_type": "code",
   "execution_count": 132,
   "metadata": {},
   "outputs": [],
   "source": [
    "logits[0][0].backward()"
   ]
  },
  {
   "cell_type": "code",
   "execution_count": 133,
   "metadata": {},
   "outputs": [
    {
     "data": {
      "text/plain": [
       "tensor([[ 0.0383,  0.0490, -0.0914,  ...,  0.1187, -0.1259, -0.0353],\n",
       "        [-0.0565,  0.1625, -0.0234,  ..., -0.0053, -0.1274,  0.0440],\n",
       "        [ 0.1063,  0.0213, -0.0479,  ...,  0.0749, -0.1954,  0.0414],\n",
       "        ...,\n",
       "        [-0.1190,  0.0717,  0.1063,  ...,  0.1576, -0.1782,  0.1545],\n",
       "        [ 0.1897, -0.0728, -0.0280,  ...,  0.2411, -0.1603,  0.1072],\n",
       "        [ 0.3061, -0.1738, -0.2959,  ...,  0.1522, -0.0324, -0.0848]])"
      ]
     },
     "execution_count": 133,
     "metadata": {},
     "output_type": "execute_result"
    }
   ],
   "source": [
    "n_importance.grad"
   ]
  },
  {
   "cell_type": "code",
   "execution_count": 134,
   "metadata": {},
   "outputs": [],
   "source": [
    "n_grad = n_importance.grad.norm(dim=1)\n",
    "n_grad = n_grad / n_grad.max()\n",
    "e_grad = e_importance.grad/e_importance.grad.abs().max()"
   ]
  },
  {
   "cell_type": "code",
   "execution_count": 135,
   "metadata": {},
   "outputs": [],
   "source": [
    "n_score = (n_importance*n_importance.grad).sum(1)\n",
    "n_score = n_score/n_score.abs().max()"
   ]
  },
  {
   "cell_type": "code",
   "execution_count": 136,
   "metadata": {},
   "outputs": [
    {
     "data": {
      "text/plain": [
       "tensor([-0.0604, -0.2227, -0.0572,  0.2393,  0.1090,  0.2088,  0.2111,  0.1118,\n",
       "        -0.0602, -0.0869, -0.2028,  0.1405,  0.1608,  0.2599,  0.6002,  0.0745,\n",
       "        -0.3209,  0.4074,  0.3659, -0.0462,  0.1294, -0.0619, -0.0663, -0.0950,\n",
       "         1.0000,  0.2971,  0.5483,  0.6876], grad_fn=<DivBackward0>)"
      ]
     },
     "execution_count": 136,
     "metadata": {},
     "output_type": "execute_result"
    }
   ],
   "source": [
    "n_score"
   ]
  },
  {
   "cell_type": "code",
   "execution_count": 137,
   "metadata": {},
   "outputs": [],
   "source": [
    "from matplotlib import cm"
   ]
  },
  {
   "cell_type": "code",
   "execution_count": 138,
   "metadata": {},
   "outputs": [
    {
     "data": {
      "text/plain": [
       "(0.4154555940023068, 0.003690888119953864, 0.12341407151095732, 1.0)"
      ]
     },
     "execution_count": 138,
     "metadata": {},
     "output_type": "execute_result"
    }
   ],
   "source": [
    "c(1)"
   ]
  },
  {
   "cell_type": "code",
   "execution_count": 139,
   "metadata": {},
   "outputs": [],
   "source": [
    "from rdkit.Chem.Draw import rdMolDraw2D\n",
    "\n",
    "from rdkit.Chem import rdDepictor\n",
    "from rdkit.Chem.Draw import rdMolDraw2D\n"
   ]
  },
  {
   "cell_type": "code",
   "execution_count": 140,
   "metadata": {},
   "outputs": [],
   "source": [
    "def draw1():\n",
    "    highlightAtomColors={}\n",
    "    highlightBondColors={}\n",
    "    \n",
    "    c=cm.get_cmap(\"RdBu\")\n",
    "    \n",
    "    for idx,w in enumerate(n_score):\n",
    "        highlightAtomColors[idx]=c((w.data.numpy()+1)/2)[:3]\n",
    "    \n",
    "    rdDepictor.Compute2DCoords(m)\n",
    "    drawer = rdMolDraw2D.MolDraw2DSVG(400,200)\n",
    "    drawer.DrawMolecule(m, highlightAtomColors=highlightAtomColors, highlightAtoms=list(highlightAtomColors.keys()), highlightBonds=[])\n",
    "    drawer.FinishDrawing()\n",
    "    svg = drawer.GetDrawingText().replace('svg:','')\n",
    "    return svg"
   ]
  },
  {
   "cell_type": "code",
   "execution_count": 141,
   "metadata": {},
   "outputs": [],
   "source": [
    "def draw2():\n",
    "    highlightAtomColors={}\n",
    "    highlightBondColors={}\n",
    "    c=cm.get_cmap(\"Blues\")\n",
    "    \n",
    "    for idx,w in enumerate(n_grad):\n",
    "        highlightAtomColors[idx]=c((w.data.numpy()))[:3]\n",
    "    \n",
    "    rdDepictor.Compute2DCoords(m)\n",
    "    drawer = rdMolDraw2D.MolDraw2DSVG(400,200)\n",
    "    drawer.DrawMolecule(m, highlightAtomColors=highlightAtomColors, highlightAtoms=list(highlightAtomColors.keys()), highlightBonds=[])\n",
    "    drawer.FinishDrawing()\n",
    "    svg = drawer.GetDrawingText().replace('svg:','')\n",
    "    return svg"
   ]
  },
  {
   "cell_type": "code",
   "execution_count": 150,
   "metadata": {},
   "outputs": [
    {
     "data": {
      "text/plain": [
       "torch.Size([60, 1])"
      ]
     },
     "execution_count": 150,
     "metadata": {},
     "output_type": "execute_result"
    }
   ],
   "source": [
    "e_grad.shape"
   ]
  },
  {
   "cell_type": "code",
   "execution_count": 166,
   "metadata": {},
   "outputs": [
    {
     "data": {
      "text/plain": [
       "tensor([[-0.1852],\n",
       "        [ 0.1197],\n",
       "        [-0.3167],\n",
       "        [-0.1738],\n",
       "        [-0.2134],\n",
       "        [-0.3167],\n",
       "        [ 0.0451],\n",
       "        [-0.2247],\n",
       "        [-0.0933],\n",
       "        [ 0.1029],\n",
       "        [ 0.0829],\n",
       "        [-0.0709],\n",
       "        [-0.1457],\n",
       "        [-0.1331],\n",
       "        [ 0.5913],\n",
       "        [ 0.0349],\n",
       "        [ 0.8031],\n",
       "        [ 0.7203],\n",
       "        [ 0.8111],\n",
       "        [ 0.7693],\n",
       "        [ 0.6257],\n",
       "        [ 1.0000],\n",
       "        [ 0.1902],\n",
       "        [ 0.6385],\n",
       "        [ 0.4854],\n",
       "        [ 0.5245],\n",
       "        [ 0.2747],\n",
       "        [ 0.0428],\n",
       "        [-0.1192],\n",
       "        [ 0.1736]])"
      ]
     },
     "execution_count": 166,
     "metadata": {},
     "output_type": "execute_result"
    }
   ],
   "source": [
    "e_grad[:30]"
   ]
  },
  {
   "cell_type": "code",
   "execution_count": 198,
   "metadata": {},
   "outputs": [],
   "source": [
    "def draw3():\n",
    "    highlightAtomColors={}\n",
    "    highlightBondColors={}\n",
    "    \n",
    "    c=cm.get_cmap(\"RdBu\")\n",
    "    e_s=(e_grad.squeeze()[::2]+e_grad.squeeze()[1::2])/2\n",
    "    \n",
    "    for idx,w in enumerate(e_s):\n",
    "        highlightBondColors[idx]=c((w.item()+1)/2)[:3]\n",
    "    \n",
    "    rdDepictor.Compute2DCoords(m)\n",
    "    drawer = rdMolDraw2D.MolDraw2DSVG(400,200)\n",
    "    drawer.DrawMolecule(m, highlightAtoms=[],highlightBondColors=highlightBondColors, highlightBonds=list(highlightBondColors.keys()))\n",
    "    drawer.FinishDrawing()\n",
    "    svg = drawer.GetDrawingText().replace('svg:','')\n",
    "    return svg\n",
    "\n",
    "def draw4():\n",
    "    highlightAtomColors={}\n",
    "    highlightBondColors={}\n",
    "    \n",
    "    c=cm.get_cmap(\"RdBu\")\n",
    "    e_s=(e_grad.squeeze()[::2]+e_grad.squeeze()[1::2])/2\n",
    "    \n",
    "    for idx,w in enumerate(n_score):\n",
    "        highlightAtomColors[idx]=c((w.data.numpy()+1)/2)[:3]\n",
    "    \n",
    "    for idx,w in enumerate(e_s):\n",
    "        highlightBondColors[idx]=c((w.item()+1)/2)[:3]\n",
    "    \n",
    "    rdDepictor.Compute2DCoords(m)\n",
    "    drawer = rdMolDraw2D.MolDraw2DSVG(400,200)\n",
    "    drawer.DrawMolecule(m, highlightAtomColors=highlightAtomColors, highlightAtoms=list(highlightAtomColors.keys()),highlightBondColors=highlightBondColors, highlightBonds=list(highlightBondColors.keys()))\n",
    "    drawer.FinishDrawing()\n",
    "    svg = drawer.GetDrawingText().replace('svg:','')\n",
    "    return svg"
   ]
  },
  {
   "cell_type": "code",
   "execution_count": 199,
   "metadata": {},
   "outputs": [
    {
     "data": {
      "text/plain": [
       "30"
      ]
     },
     "execution_count": 199,
     "metadata": {},
     "output_type": "execute_result"
    }
   ],
   "source": [
    "len(list(m.GetBonds()))"
   ]
  },
  {
   "cell_type": "code",
   "execution_count": 200,
   "metadata": {},
   "outputs": [
    {
     "data": {
      "image/svg+xml": [
       "<svg baseProfile=\"full\" height=\"200px\" version=\"1.1\" width=\"400px\" xml:space=\"preserve\" xmlns=\"http://www.w3.org/2000/svg\" xmlns:rdkit=\"http://www.rdkit.org/xml\" xmlns:xlink=\"http://www.w3.org/1999/xlink\">\n",
       "<rect height=\"200\" style=\"opacity:1.0;fill:#FFFFFF;stroke:none\" width=\"400\" x=\"0\" y=\"0\"> </rect>\n",
       "<ellipse cx=\"50.9061\" cy=\"20.5978\" rx=\"7.72136\" ry=\"7.72136\" style=\"fill:#F8EEE8;fill-rule:evenodd;stroke:#F8EEE8;stroke-width:1px;stroke-linecap:butt;stroke-linejoin:miter;stroke-opacity:1\"/>\n",
       "<ellipse cx=\"72.8478\" cy=\"39.4911\" rx=\"7.72136\" ry=\"7.72136\" style=\"fill:#FBD4BE;fill-rule:evenodd;stroke:#FBD4BE;stroke-width:1px;stroke-linecap:butt;stroke-linejoin:miter;stroke-opacity:1\"/>\n",
       "<ellipse cx=\"67.4565\" cy=\"67.9399\" rx=\"7.72136\" ry=\"7.72136\" style=\"fill:#F8EEE8;fill-rule:evenodd;stroke:#F8EEE8;stroke-width:1px;stroke-linecap:butt;stroke-linejoin:miter;stroke-opacity:1\"/>\n",
       "<ellipse cx=\"40.1235\" cy=\"77.4953\" rx=\"7.72136\" ry=\"7.72136\" style=\"fill:#C4DEEC;fill-rule:evenodd;stroke:#C4DEEC;stroke-width:1px;stroke-linecap:butt;stroke-linejoin:miter;stroke-opacity:1\"/>\n",
       "<ellipse cx=\"18.1818\" cy=\"58.6019\" rx=\"7.72136\" ry=\"7.72136\" style=\"fill:#E2EDF3;fill-rule:evenodd;stroke:#E2EDF3;stroke-width:1px;stroke-linecap:butt;stroke-linejoin:miter;stroke-opacity:1\"/>\n",
       "<ellipse cx=\"89.3982\" cy=\"86.8332\" rx=\"7.72136\" ry=\"7.72136\" style=\"fill:#CEE3EF;fill-rule:evenodd;stroke:#CEE3EF;stroke-width:1px;stroke-linecap:butt;stroke-linejoin:miter;stroke-opacity:1\"/>\n",
       "<ellipse cx=\"116.731\" cy=\"77.2778\" rx=\"7.72136\" ry=\"7.72136\" style=\"fill:#CCE2EE;fill-rule:evenodd;stroke:#CCE2EE;stroke-width:1px;stroke-linecap:butt;stroke-linejoin:miter;stroke-opacity:1\"/>\n",
       "<ellipse cx=\"138.673\" cy=\"96.1712\" rx=\"7.72136\" ry=\"7.72136\" style=\"fill:#E1ECF3;fill-rule:evenodd;stroke:#E1ECF3;stroke-width:1px;stroke-linecap:butt;stroke-linejoin:miter;stroke-opacity:1\"/>\n",
       "<ellipse cx=\"133.282\" cy=\"124.62\" rx=\"7.72136\" ry=\"7.72136\" style=\"fill:#F8EEE8;fill-rule:evenodd;stroke:#F8EEE8;stroke-width:1px;stroke-linecap:butt;stroke-linejoin:miter;stroke-opacity:1\"/>\n",
       "<ellipse cx=\"155.223\" cy=\"143.513\" rx=\"7.72136\" ry=\"7.72136\" style=\"fill:#F9EAE1;fill-rule:evenodd;stroke:#F9EAE1;stroke-width:1px;stroke-linecap:butt;stroke-linejoin:miter;stroke-opacity:1\"/>\n",
       "<ellipse cx=\"182.556\" cy=\"133.958\" rx=\"7.72136\" ry=\"7.72136\" style=\"fill:#FDDBC7;fill-rule:evenodd;stroke:#FDDBC7;stroke-width:1px;stroke-linecap:butt;stroke-linejoin:miter;stroke-opacity:1\"/>\n",
       "<ellipse cx=\"190.892\" cy=\"106.229\" rx=\"7.72136\" ry=\"7.72136\" style=\"fill:#DCEAF2;fill-rule:evenodd;stroke:#DCEAF2;stroke-width:1px;stroke-linecap:butt;stroke-linejoin:miter;stroke-opacity:1\"/>\n",
       "<ellipse cx=\"219.84\" cy=\"105.587\" rx=\"7.72136\" ry=\"7.72136\" style=\"fill:#D8E8F1;fill-rule:evenodd;stroke:#D8E8F1;stroke-width:1px;stroke-linecap:butt;stroke-linejoin:miter;stroke-opacity:1\"/>\n",
       "<ellipse cx=\"229.395\" cy=\"132.92\" rx=\"7.72136\" ry=\"7.72136\" style=\"fill:#BDDAEA;fill-rule:evenodd;stroke:#BDDAEA;stroke-width:1px;stroke-linecap:butt;stroke-linejoin:miter;stroke-opacity:1\"/>\n",
       "<ellipse cx=\"257.844\" cy=\"138.311\" rx=\"7.72136\" ry=\"7.72136\" style=\"fill:#4393C3;fill-rule:evenodd;stroke:#4393C3;stroke-width:1px;stroke-linecap:butt;stroke-linejoin:miter;stroke-opacity:1\"/>\n",
       "<ellipse cx=\"276.737\" cy=\"116.37\" rx=\"7.72136\" ry=\"7.72136\" style=\"fill:#E8F0F4;fill-rule:evenodd;stroke:#E8F0F4;stroke-width:1px;stroke-linecap:butt;stroke-linejoin:miter;stroke-opacity:1\"/>\n",
       "<ellipse cx=\"267.182\" cy=\"89.0368\" rx=\"7.72136\" ry=\"7.72136\" style=\"fill:#F7B99B;fill-rule:evenodd;stroke:#F7B99B;stroke-width:1px;stroke-linecap:butt;stroke-linejoin:miter;stroke-opacity:1\"/>\n",
       "<ellipse cx=\"286.075\" cy=\"67.0951\" rx=\"7.72136\" ry=\"7.72136\" style=\"fill:#8DC2DC;fill-rule:evenodd;stroke:#8DC2DC;stroke-width:1px;stroke-linecap:butt;stroke-linejoin:miter;stroke-opacity:1\"/>\n",
       "<ellipse cx=\"314.524\" cy=\"72.4864\" rx=\"7.72136\" ry=\"7.72136\" style=\"fill:#9DCAE1;fill-rule:evenodd;stroke:#9DCAE1;stroke-width:1px;stroke-linecap:butt;stroke-linejoin:miter;stroke-opacity:1\"/>\n",
       "<ellipse cx=\"333.417\" cy=\"50.5447\" rx=\"7.72136\" ry=\"7.72136\" style=\"fill:#F8F0EC;fill-rule:evenodd;stroke:#F8F0EC;stroke-width:1px;stroke-linecap:butt;stroke-linejoin:miter;stroke-opacity:1\"/>\n",
       "<ellipse cx=\"361.866\" cy=\"55.936\" rx=\"7.72136\" ry=\"7.72136\" style=\"fill:#DEEBF2;fill-rule:evenodd;stroke:#DEEBF2;stroke-width:1px;stroke-linecap:butt;stroke-linejoin:miter;stroke-opacity:1\"/>\n",
       "<ellipse cx=\"323.862\" cy=\"23.2117\" rx=\"7.72136\" ry=\"7.72136\" style=\"fill:#F8EEE8;fill-rule:evenodd;stroke:#F8EEE8;stroke-width:1px;stroke-linecap:butt;stroke-linejoin:miter;stroke-opacity:1\"/>\n",
       "<ellipse cx=\"238.733\" cy=\"83.6455\" rx=\"7.72136\" ry=\"7.72136\" style=\"fill:#F9EDE7;fill-rule:evenodd;stroke:#F9EDE7;stroke-width:1px;stroke-linecap:butt;stroke-linejoin:miter;stroke-opacity:1\"/>\n",
       "<ellipse cx=\"229.178\" cy=\"56.3125\" rx=\"7.72136\" ry=\"7.72136\" style=\"fill:#F9E9DF;fill-rule:evenodd;stroke:#F9E9DF;stroke-width:1px;stroke-linecap:butt;stroke-linejoin:miter;stroke-opacity:1\"/>\n",
       "<ellipse cx=\"206.353\" cy=\"150.454\" rx=\"7.72136\" ry=\"7.72136\" style=\"fill:#053061;fill-rule:evenodd;stroke:#053061;stroke-width:1px;stroke-linecap:butt;stroke-linejoin:miter;stroke-opacity:1\"/>\n",
       "<ellipse cx=\"206.994\" cy=\"179.402\" rx=\"7.72136\" ry=\"7.72136\" style=\"fill:#B0D4E6;fill-rule:evenodd;stroke:#B0D4E6;stroke-width:1px;stroke-linecap:butt;stroke-linejoin:miter;stroke-opacity:1\"/>\n",
       "<ellipse cx=\"105.949\" cy=\"134.175\" rx=\"7.72136\" ry=\"7.72136\" style=\"fill:#559EC9;fill-rule:evenodd;stroke:#559EC9;stroke-width:1px;stroke-linecap:butt;stroke-linejoin:miter;stroke-opacity:1\"/>\n",
       "<ellipse cx=\"84.0069\" cy=\"115.282\" rx=\"7.72136\" ry=\"7.72136\" style=\"fill:#337DB8;fill-rule:evenodd;stroke:#337DB8;stroke-width:1px;stroke-linecap:butt;stroke-linejoin:miter;stroke-opacity:1\"/>\n",
       "<path d=\"M 50.9061,20.5978 72.8478,39.4911\" style=\"fill:none;fill-rule:evenodd;stroke:#000000;stroke-width:2px;stroke-linecap:butt;stroke-linejoin:miter;stroke-opacity:1\"/>\n",
       "<path d=\"M 72.8478,39.4911 70.6551,51.0613\" style=\"fill:none;fill-rule:evenodd;stroke:#000000;stroke-width:2px;stroke-linecap:butt;stroke-linejoin:miter;stroke-opacity:1\"/>\n",
       "<path d=\"M 70.6551,51.0613 68.4625,62.6314\" style=\"fill:none;fill-rule:evenodd;stroke:#0000FF;stroke-width:2px;stroke-linecap:butt;stroke-linejoin:miter;stroke-opacity:1\"/>\n",
       "<path d=\"M 57.3993,71.4558 48.7614,74.4755\" style=\"fill:none;fill-rule:evenodd;stroke:#0000FF;stroke-width:2px;stroke-linecap:butt;stroke-linejoin:miter;stroke-opacity:1\"/>\n",
       "<path d=\"M 48.7614,74.4755 40.1235,77.4953\" style=\"fill:none;fill-rule:evenodd;stroke:#000000;stroke-width:2px;stroke-linecap:butt;stroke-linejoin:miter;stroke-opacity:1\"/>\n",
       "<path d=\"M 73.6214,73.2483 81.5098,80.0408\" style=\"fill:none;fill-rule:evenodd;stroke:#0000FF;stroke-width:2px;stroke-linecap:butt;stroke-linejoin:miter;stroke-opacity:1\"/>\n",
       "<path d=\"M 81.5098,80.0408 89.3982,86.8332\" style=\"fill:none;fill-rule:evenodd;stroke:#000000;stroke-width:2px;stroke-linecap:butt;stroke-linejoin:miter;stroke-opacity:1\"/>\n",
       "<path d=\"M 40.1235,77.4953 18.1818,58.6019\" style=\"fill:none;fill-rule:evenodd;stroke:#000000;stroke-width:2px;stroke-linecap:butt;stroke-linejoin:miter;stroke-opacity:1\"/>\n",
       "<path d=\"M 89.3982,86.8332 116.731,77.2778\" style=\"fill:none;fill-rule:evenodd;stroke:#000000;stroke-width:2px;stroke-linecap:butt;stroke-linejoin:miter;stroke-opacity:1\"/>\n",
       "<path d=\"M 95.4092,90.8665 114.542,84.1778\" style=\"fill:none;fill-rule:evenodd;stroke:#000000;stroke-width:2px;stroke-linecap:butt;stroke-linejoin:miter;stroke-opacity:1;stroke-dasharray:6,6\"/>\n",
       "<path d=\"M 89.3982,86.8332 84.0069,115.282\" style=\"fill:none;fill-rule:evenodd;stroke:#000000;stroke-width:2px;stroke-linecap:butt;stroke-linejoin:miter;stroke-opacity:1\"/>\n",
       "<path d=\"M 94.2792,92.1788 90.5053,112.093\" style=\"fill:none;fill-rule:evenodd;stroke:#000000;stroke-width:2px;stroke-linecap:butt;stroke-linejoin:miter;stroke-opacity:1;stroke-dasharray:6,6\"/>\n",
       "<path d=\"M 116.731,77.2778 138.673,96.1712\" style=\"fill:none;fill-rule:evenodd;stroke:#000000;stroke-width:2px;stroke-linecap:butt;stroke-linejoin:miter;stroke-opacity:1\"/>\n",
       "<path d=\"M 116.244,84.5002 131.603,97.7255\" style=\"fill:none;fill-rule:evenodd;stroke:#000000;stroke-width:2px;stroke-linecap:butt;stroke-linejoin:miter;stroke-opacity:1;stroke-dasharray:6,6\"/>\n",
       "<path d=\"M 138.673,96.1712 133.282,124.62\" style=\"fill:none;fill-rule:evenodd;stroke:#000000;stroke-width:2px;stroke-linecap:butt;stroke-linejoin:miter;stroke-opacity:1\"/>\n",
       "<path d=\"M 132.174,99.3603 128.401,119.274\" style=\"fill:none;fill-rule:evenodd;stroke:#000000;stroke-width:2px;stroke-linecap:butt;stroke-linejoin:miter;stroke-opacity:1;stroke-dasharray:6,6\"/>\n",
       "<path d=\"M 133.282,124.62 155.223,143.513\" style=\"fill:none;fill-rule:evenodd;stroke:#000000;stroke-width:2px;stroke-linecap:butt;stroke-linejoin:miter;stroke-opacity:1\"/>\n",
       "<path d=\"M 133.282,124.62 105.949,134.175\" style=\"fill:none;fill-rule:evenodd;stroke:#000000;stroke-width:2px;stroke-linecap:butt;stroke-linejoin:miter;stroke-opacity:1\"/>\n",
       "<path d=\"M 127.271,120.587 108.137,127.275\" style=\"fill:none;fill-rule:evenodd;stroke:#000000;stroke-width:2px;stroke-linecap:butt;stroke-linejoin:miter;stroke-opacity:1;stroke-dasharray:6,6\"/>\n",
       "<path d=\"M 155.223,143.513 182.556,133.958\" style=\"fill:none;fill-rule:evenodd;stroke:#000000;stroke-width:2px;stroke-linecap:butt;stroke-linejoin:miter;stroke-opacity:1\"/>\n",
       "<path d=\"M 157.412,136.613 176.545,129.925\" style=\"fill:none;fill-rule:evenodd;stroke:#000000;stroke-width:2px;stroke-linecap:butt;stroke-linejoin:miter;stroke-opacity:1\"/>\n",
       "<path d=\"M 182.556,133.958 185.999,122.506\" style=\"fill:none;fill-rule:evenodd;stroke:#000000;stroke-width:2px;stroke-linecap:butt;stroke-linejoin:miter;stroke-opacity:1\"/>\n",
       "<path d=\"M 185.999,122.506 189.441,111.054\" style=\"fill:none;fill-rule:evenodd;stroke:#FF0000;stroke-width:2px;stroke-linecap:butt;stroke-linejoin:miter;stroke-opacity:1\"/>\n",
       "<path d=\"M 182.556,133.958 206.353,150.454\" style=\"fill:none;fill-rule:evenodd;stroke:#000000;stroke-width:2px;stroke-linecap:butt;stroke-linejoin:miter;stroke-opacity:1\"/>\n",
       "<path d=\"M 195.399,106.129 207.619,105.858\" style=\"fill:none;fill-rule:evenodd;stroke:#FF0000;stroke-width:2px;stroke-linecap:butt;stroke-linejoin:miter;stroke-opacity:1\"/>\n",
       "<path d=\"M 207.619,105.858 219.84,105.587\" style=\"fill:none;fill-rule:evenodd;stroke:#000000;stroke-width:2px;stroke-linecap:butt;stroke-linejoin:miter;stroke-opacity:1\"/>\n",
       "<path d=\"M 219.84,105.587 229.395,132.92\" style=\"fill:none;fill-rule:evenodd;stroke:#000000;stroke-width:2px;stroke-linecap:butt;stroke-linejoin:miter;stroke-opacity:1\"/>\n",
       "<path d=\"M 215.806,111.598 222.495,130.731\" style=\"fill:none;fill-rule:evenodd;stroke:#000000;stroke-width:2px;stroke-linecap:butt;stroke-linejoin:miter;stroke-opacity:1;stroke-dasharray:6,6\"/>\n",
       "<path d=\"M 219.84,105.587 238.733,83.6455\" style=\"fill:none;fill-rule:evenodd;stroke:#000000;stroke-width:2px;stroke-linecap:butt;stroke-linejoin:miter;stroke-opacity:1\"/>\n",
       "<path d=\"M 227.062,106.075 240.287,90.7154\" style=\"fill:none;fill-rule:evenodd;stroke:#000000;stroke-width:2px;stroke-linecap:butt;stroke-linejoin:miter;stroke-opacity:1;stroke-dasharray:6,6\"/>\n",
       "<path d=\"M 229.395,132.92 257.844,138.311\" style=\"fill:none;fill-rule:evenodd;stroke:#000000;stroke-width:2px;stroke-linecap:butt;stroke-linejoin:miter;stroke-opacity:1\"/>\n",
       "<path d=\"M 234.741,128.039 254.655,131.813\" style=\"fill:none;fill-rule:evenodd;stroke:#000000;stroke-width:2px;stroke-linecap:butt;stroke-linejoin:miter;stroke-opacity:1;stroke-dasharray:6,6\"/>\n",
       "<path d=\"M 229.395,132.92 206.353,150.454\" style=\"fill:none;fill-rule:evenodd;stroke:#000000;stroke-width:2px;stroke-linecap:butt;stroke-linejoin:miter;stroke-opacity:1\"/>\n",
       "<path d=\"M 257.844,138.311 276.737,116.37\" style=\"fill:none;fill-rule:evenodd;stroke:#000000;stroke-width:2px;stroke-linecap:butt;stroke-linejoin:miter;stroke-opacity:1\"/>\n",
       "<path d=\"M 256.289,131.242 269.515,115.882\" style=\"fill:none;fill-rule:evenodd;stroke:#000000;stroke-width:2px;stroke-linecap:butt;stroke-linejoin:miter;stroke-opacity:1;stroke-dasharray:6,6\"/>\n",
       "<path d=\"M 276.737,116.37 267.182,89.0368\" style=\"fill:none;fill-rule:evenodd;stroke:#000000;stroke-width:2px;stroke-linecap:butt;stroke-linejoin:miter;stroke-opacity:1\"/>\n",
       "<path d=\"M 269.837,114.181 263.148,95.0478\" style=\"fill:none;fill-rule:evenodd;stroke:#000000;stroke-width:2px;stroke-linecap:butt;stroke-linejoin:miter;stroke-opacity:1;stroke-dasharray:6,6\"/>\n",
       "<path d=\"M 267.182,89.0368 274.551,80.4789\" style=\"fill:none;fill-rule:evenodd;stroke:#000000;stroke-width:2px;stroke-linecap:butt;stroke-linejoin:miter;stroke-opacity:1\"/>\n",
       "<path d=\"M 274.551,80.4789 281.92,71.921\" style=\"fill:none;fill-rule:evenodd;stroke:#FF0000;stroke-width:2px;stroke-linecap:butt;stroke-linejoin:miter;stroke-opacity:1\"/>\n",
       "<path d=\"M 267.182,89.0368 238.733,83.6455\" style=\"fill:none;fill-rule:evenodd;stroke:#000000;stroke-width:2px;stroke-linecap:butt;stroke-linejoin:miter;stroke-opacity:1\"/>\n",
       "<path d=\"M 261.836,93.9179 241.922,90.144\" style=\"fill:none;fill-rule:evenodd;stroke:#000000;stroke-width:2px;stroke-linecap:butt;stroke-linejoin:miter;stroke-opacity:1;stroke-dasharray:6,6\"/>\n",
       "<path d=\"M 290.582,67.9493 302.553,70.2178\" style=\"fill:none;fill-rule:evenodd;stroke:#FF0000;stroke-width:2px;stroke-linecap:butt;stroke-linejoin:miter;stroke-opacity:1\"/>\n",
       "<path d=\"M 302.553,70.2178 314.524,72.4864\" style=\"fill:none;fill-rule:evenodd;stroke:#000000;stroke-width:2px;stroke-linecap:butt;stroke-linejoin:miter;stroke-opacity:1\"/>\n",
       "<path d=\"M 314.524,72.4864 333.417,50.5447\" style=\"fill:none;fill-rule:evenodd;stroke:#000000;stroke-width:2px;stroke-linecap:butt;stroke-linejoin:miter;stroke-opacity:1\"/>\n",
       "<path d=\"M 333.417,50.5447 342.654,52.2951\" style=\"fill:none;fill-rule:evenodd;stroke:#000000;stroke-width:2px;stroke-linecap:butt;stroke-linejoin:miter;stroke-opacity:1\"/>\n",
       "<path d=\"M 342.654,52.2951 351.89,54.0454\" style=\"fill:none;fill-rule:evenodd;stroke:#0000FF;stroke-width:2px;stroke-linecap:butt;stroke-linejoin:miter;stroke-opacity:1\"/>\n",
       "<path d=\"M 336.15,49.5892 332.216,38.3356\" style=\"fill:none;fill-rule:evenodd;stroke:#000000;stroke-width:2px;stroke-linecap:butt;stroke-linejoin:miter;stroke-opacity:1\"/>\n",
       "<path d=\"M 332.216,38.3356 328.282,27.082\" style=\"fill:none;fill-rule:evenodd;stroke:#FF0000;stroke-width:2px;stroke-linecap:butt;stroke-linejoin:miter;stroke-opacity:1\"/>\n",
       "<path d=\"M 330.684,51.5002 326.75,40.2467\" style=\"fill:none;fill-rule:evenodd;stroke:#000000;stroke-width:2px;stroke-linecap:butt;stroke-linejoin:miter;stroke-opacity:1\"/>\n",
       "<path d=\"M 326.75,40.2467 322.816,28.9931\" style=\"fill:none;fill-rule:evenodd;stroke:#FF0000;stroke-width:2px;stroke-linecap:butt;stroke-linejoin:miter;stroke-opacity:1\"/>\n",
       "<path d=\"M 238.733,83.6455 229.178,56.3125\" style=\"fill:none;fill-rule:evenodd;stroke:#000000;stroke-width:2px;stroke-linecap:butt;stroke-linejoin:miter;stroke-opacity:1\"/>\n",
       "<path d=\"M 203.458,150.518 203.725,162.579\" style=\"fill:none;fill-rule:evenodd;stroke:#000000;stroke-width:2px;stroke-linecap:butt;stroke-linejoin:miter;stroke-opacity:1\"/>\n",
       "<path d=\"M 203.725,162.579 203.992,174.641\" style=\"fill:none;fill-rule:evenodd;stroke:#FF0000;stroke-width:2px;stroke-linecap:butt;stroke-linejoin:miter;stroke-opacity:1\"/>\n",
       "<path d=\"M 209.247,150.39 209.515,162.451\" style=\"fill:none;fill-rule:evenodd;stroke:#000000;stroke-width:2px;stroke-linecap:butt;stroke-linejoin:miter;stroke-opacity:1\"/>\n",
       "<path d=\"M 209.515,162.451 209.782,174.512\" style=\"fill:none;fill-rule:evenodd;stroke:#FF0000;stroke-width:2px;stroke-linecap:butt;stroke-linejoin:miter;stroke-opacity:1\"/>\n",
       "<path d=\"M 105.949,134.175 84.0069,115.282\" style=\"fill:none;fill-rule:evenodd;stroke:#000000;stroke-width:2px;stroke-linecap:butt;stroke-linejoin:miter;stroke-opacity:1\"/>\n",
       "<path d=\"M 106.436,126.953 91.0768,113.728\" style=\"fill:none;fill-rule:evenodd;stroke:#000000;stroke-width:2px;stroke-linecap:butt;stroke-linejoin:miter;stroke-opacity:1;stroke-dasharray:6,6\"/>\n",
       "<text style=\"font-size:9px;font-style:normal;font-weight:normal;fill-opacity:1;stroke:none;font-family:sans-serif;text-anchor:start;fill:#0000FF\" x=\"57.3993\" y=\"73.2483\"><tspan>NH</tspan><tspan style=\"baseline-shift:super;font-size:6.75px;\">+</tspan><tspan/></text>\n",
       "<text style=\"font-size:9px;font-style:normal;font-weight:normal;fill-opacity:1;stroke:none;font-family:sans-serif;text-anchor:start;fill:#FF0000\" x=\"186.384\" y=\"111.054\"><tspan>O</tspan></text>\n",
       "<text style=\"font-size:9px;font-style:normal;font-weight:normal;fill-opacity:1;stroke:none;font-family:sans-serif;text-anchor:start;fill:#FF0000\" x=\"281.568\" y=\"71.921\"><tspan>O</tspan></text>\n",
       "<text style=\"font-size:9px;font-style:normal;font-weight:normal;fill-opacity:1;stroke:none;font-family:sans-serif;text-anchor:start;fill:#0000FF\" x=\"351.89\" y=\"61.2444\"><tspan>NH</tspan><tspan style=\"baseline-shift:sub;font-size:6.75px;\">2</tspan><tspan/></text>\n",
       "<text style=\"font-size:9px;font-style:normal;font-weight:normal;fill-opacity:1;stroke:none;font-family:sans-serif;text-anchor:start;fill:#FF0000\" x=\"319.355\" y=\"28.0376\"><tspan>O</tspan></text>\n",
       "<text style=\"font-size:9px;font-style:normal;font-weight:normal;fill-opacity:1;stroke:none;font-family:sans-serif;text-anchor:start;fill:#FF0000\" x=\"202.487\" y=\"184.228\"><tspan>O</tspan></text>\n",
       "</svg>"
      ],
      "text/plain": [
       "<IPython.core.display.SVG object>"
      ]
     },
     "execution_count": 200,
     "metadata": {},
     "output_type": "execute_result"
    }
   ],
   "source": [
    "from IPython.display import SVG\n",
    "SVG(draw1())"
   ]
  },
  {
   "cell_type": "code",
   "execution_count": 201,
   "metadata": {},
   "outputs": [
    {
     "data": {
      "image/svg+xml": [
       "<svg baseProfile=\"full\" height=\"200px\" version=\"1.1\" width=\"400px\" xml:space=\"preserve\" xmlns=\"http://www.w3.org/2000/svg\" xmlns:rdkit=\"http://www.rdkit.org/xml\" xmlns:xlink=\"http://www.w3.org/1999/xlink\">\n",
       "<rect height=\"200\" style=\"opacity:1.0;fill:#FFFFFF;stroke:none\" width=\"400\" x=\"0\" y=\"0\"> </rect>\n",
       "<ellipse cx=\"50.9061\" cy=\"20.5978\" rx=\"7.72136\" ry=\"7.72136\" style=\"fill:#BCD7EB;fill-rule:evenodd;stroke:#BCD7EB;stroke-width:1px;stroke-linecap:butt;stroke-linejoin:miter;stroke-opacity:1\"/>\n",
       "<ellipse cx=\"72.8478\" cy=\"39.4911\" rx=\"7.72136\" ry=\"7.72136\" style=\"fill:#5DA4D0;fill-rule:evenodd;stroke:#5DA4D0;stroke-width:1px;stroke-linecap:butt;stroke-linejoin:miter;stroke-opacity:1\"/>\n",
       "<ellipse cx=\"67.4565\" cy=\"67.9399\" rx=\"7.72136\" ry=\"7.72136\" style=\"fill:#97C6DF;fill-rule:evenodd;stroke:#97C6DF;stroke-width:1px;stroke-linecap:butt;stroke-linejoin:miter;stroke-opacity:1\"/>\n",
       "<ellipse cx=\"40.1235\" cy=\"77.4953\" rx=\"7.72136\" ry=\"7.72136\" style=\"fill:#83BBDB;fill-rule:evenodd;stroke:#83BBDB;stroke-width:1px;stroke-linecap:butt;stroke-linejoin:miter;stroke-opacity:1\"/>\n",
       "<ellipse cx=\"18.1818\" cy=\"58.6019\" rx=\"7.72136\" ry=\"7.72136\" style=\"fill:#7DB8D9;fill-rule:evenodd;stroke:#7DB8D9;stroke-width:1px;stroke-linecap:butt;stroke-linejoin:miter;stroke-opacity:1\"/>\n",
       "<ellipse cx=\"89.3982\" cy=\"86.8332\" rx=\"7.72136\" ry=\"7.72136\" style=\"fill:#3F8FC4;fill-rule:evenodd;stroke:#3F8FC4;stroke-width:1px;stroke-linecap:butt;stroke-linejoin:miter;stroke-opacity:1\"/>\n",
       "<ellipse cx=\"116.731\" cy=\"77.2778\" rx=\"7.72136\" ry=\"7.72136\" style=\"fill:#4393C6;fill-rule:evenodd;stroke:#4393C6;stroke-width:1px;stroke-linecap:butt;stroke-linejoin:miter;stroke-opacity:1\"/>\n",
       "<ellipse cx=\"138.673\" cy=\"96.1712\" rx=\"7.72136\" ry=\"7.72136\" style=\"fill:#66AAD4;fill-rule:evenodd;stroke:#66AAD4;stroke-width:1px;stroke-linecap:butt;stroke-linejoin:miter;stroke-opacity:1\"/>\n",
       "<ellipse cx=\"133.282\" cy=\"124.62\" rx=\"7.72136\" ry=\"7.72136\" style=\"fill:#084083;fill-rule:evenodd;stroke:#084083;stroke-width:1px;stroke-linecap:butt;stroke-linejoin:miter;stroke-opacity:1\"/>\n",
       "<ellipse cx=\"155.223\" cy=\"143.513\" rx=\"7.72136\" ry=\"7.72136\" style=\"fill:#8DC0DD;fill-rule:evenodd;stroke:#8DC0DD;stroke-width:1px;stroke-linecap:butt;stroke-linejoin:miter;stroke-opacity:1\"/>\n",
       "<ellipse cx=\"182.556\" cy=\"133.958\" rx=\"7.72136\" ry=\"7.72136\" style=\"fill:#0F5BA3;fill-rule:evenodd;stroke:#0F5BA3;stroke-width:1px;stroke-linecap:butt;stroke-linejoin:miter;stroke-opacity:1\"/>\n",
       "<ellipse cx=\"190.892\" cy=\"106.229\" rx=\"7.72136\" ry=\"7.72136\" style=\"fill:#63A9D3;fill-rule:evenodd;stroke:#63A9D3;stroke-width:1px;stroke-linecap:butt;stroke-linejoin:miter;stroke-opacity:1\"/>\n",
       "<ellipse cx=\"219.84\" cy=\"105.587\" rx=\"7.72136\" ry=\"7.72136\" style=\"fill:#6BAED6;fill-rule:evenodd;stroke:#6BAED6;stroke-width:1px;stroke-linecap:butt;stroke-linejoin:miter;stroke-opacity:1\"/>\n",
       "<ellipse cx=\"229.395\" cy=\"132.92\" rx=\"7.72136\" ry=\"7.72136\" style=\"fill:#3989C1;fill-rule:evenodd;stroke:#3989C1;stroke-width:1px;stroke-linecap:butt;stroke-linejoin:miter;stroke-opacity:1\"/>\n",
       "<ellipse cx=\"257.844\" cy=\"138.311\" rx=\"7.72136\" ry=\"7.72136\" style=\"fill:#2070B4;fill-rule:evenodd;stroke:#2070B4;stroke-width:1px;stroke-linecap:butt;stroke-linejoin:miter;stroke-opacity:1\"/>\n",
       "<ellipse cx=\"276.737\" cy=\"116.37\" rx=\"7.72136\" ry=\"7.72136\" style=\"fill:#90C2DE;fill-rule:evenodd;stroke:#90C2DE;stroke-width:1px;stroke-linecap:butt;stroke-linejoin:miter;stroke-opacity:1\"/>\n",
       "<ellipse cx=\"267.182\" cy=\"89.0368\" rx=\"7.72136\" ry=\"7.72136\" style=\"fill:#88BEDC;fill-rule:evenodd;stroke:#88BEDC;stroke-width:1px;stroke-linecap:butt;stroke-linejoin:miter;stroke-opacity:1\"/>\n",
       "<ellipse cx=\"286.075\" cy=\"67.0951\" rx=\"7.72136\" ry=\"7.72136\" style=\"fill:#2575B7;fill-rule:evenodd;stroke:#2575B7;stroke-width:1px;stroke-linecap:butt;stroke-linejoin:miter;stroke-opacity:1\"/>\n",
       "<ellipse cx=\"314.524\" cy=\"72.4864\" rx=\"7.72136\" ry=\"7.72136\" style=\"fill:#4E9ACA;fill-rule:evenodd;stroke:#4E9ACA;stroke-width:1px;stroke-linecap:butt;stroke-linejoin:miter;stroke-opacity:1\"/>\n",
       "<ellipse cx=\"333.417\" cy=\"50.5447\" rx=\"7.72136\" ry=\"7.72136\" style=\"fill:#08306B;fill-rule:evenodd;stroke:#08306B;stroke-width:1px;stroke-linecap:butt;stroke-linejoin:miter;stroke-opacity:1\"/>\n",
       "<ellipse cx=\"361.866\" cy=\"55.936\" rx=\"7.72136\" ry=\"7.72136\" style=\"fill:#66AAD4;fill-rule:evenodd;stroke:#66AAD4;stroke-width:1px;stroke-linecap:butt;stroke-linejoin:miter;stroke-opacity:1\"/>\n",
       "<ellipse cx=\"323.862\" cy=\"23.2117\" rx=\"7.72136\" ry=\"7.72136\" style=\"fill:#A8CEE4;fill-rule:evenodd;stroke:#A8CEE4;stroke-width:1px;stroke-linecap:butt;stroke-linejoin:miter;stroke-opacity:1\"/>\n",
       "<ellipse cx=\"238.733\" cy=\"83.6455\" rx=\"7.72136\" ry=\"7.72136\" style=\"fill:#9ECAE1;fill-rule:evenodd;stroke:#9ECAE1;stroke-width:1px;stroke-linecap:butt;stroke-linejoin:miter;stroke-opacity:1\"/>\n",
       "<ellipse cx=\"229.178\" cy=\"56.3125\" rx=\"7.72136\" ry=\"7.72136\" style=\"fill:#4191C5;fill-rule:evenodd;stroke:#4191C5;stroke-width:1px;stroke-linecap:butt;stroke-linejoin:miter;stroke-opacity:1\"/>\n",
       "<ellipse cx=\"206.353\" cy=\"150.454\" rx=\"7.72136\" ry=\"7.72136\" style=\"fill:#083978;fill-rule:evenodd;stroke:#083978;stroke-width:1px;stroke-linecap:butt;stroke-linejoin:miter;stroke-opacity:1\"/>\n",
       "<ellipse cx=\"206.994\" cy=\"179.402\" rx=\"7.72136\" ry=\"7.72136\" style=\"fill:#4594C7;fill-rule:evenodd;stroke:#4594C7;stroke-width:1px;stroke-linecap:butt;stroke-linejoin:miter;stroke-opacity:1\"/>\n",
       "<ellipse cx=\"105.949\" cy=\"134.175\" rx=\"7.72136\" ry=\"7.72136\" style=\"fill:#3181BD;fill-rule:evenodd;stroke:#3181BD;stroke-width:1px;stroke-linecap:butt;stroke-linejoin:miter;stroke-opacity:1\"/>\n",
       "<ellipse cx=\"84.0069\" cy=\"115.282\" rx=\"7.72136\" ry=\"7.72136\" style=\"fill:#084489;fill-rule:evenodd;stroke:#084489;stroke-width:1px;stroke-linecap:butt;stroke-linejoin:miter;stroke-opacity:1\"/>\n",
       "<path d=\"M 50.9061,20.5978 72.8478,39.4911\" style=\"fill:none;fill-rule:evenodd;stroke:#000000;stroke-width:2px;stroke-linecap:butt;stroke-linejoin:miter;stroke-opacity:1\"/>\n",
       "<path d=\"M 72.8478,39.4911 70.6551,51.0613\" style=\"fill:none;fill-rule:evenodd;stroke:#000000;stroke-width:2px;stroke-linecap:butt;stroke-linejoin:miter;stroke-opacity:1\"/>\n",
       "<path d=\"M 70.6551,51.0613 68.4625,62.6314\" style=\"fill:none;fill-rule:evenodd;stroke:#0000FF;stroke-width:2px;stroke-linecap:butt;stroke-linejoin:miter;stroke-opacity:1\"/>\n",
       "<path d=\"M 57.3993,71.4558 48.7614,74.4755\" style=\"fill:none;fill-rule:evenodd;stroke:#0000FF;stroke-width:2px;stroke-linecap:butt;stroke-linejoin:miter;stroke-opacity:1\"/>\n",
       "<path d=\"M 48.7614,74.4755 40.1235,77.4953\" style=\"fill:none;fill-rule:evenodd;stroke:#000000;stroke-width:2px;stroke-linecap:butt;stroke-linejoin:miter;stroke-opacity:1\"/>\n",
       "<path d=\"M 73.6214,73.2483 81.5098,80.0408\" style=\"fill:none;fill-rule:evenodd;stroke:#0000FF;stroke-width:2px;stroke-linecap:butt;stroke-linejoin:miter;stroke-opacity:1\"/>\n",
       "<path d=\"M 81.5098,80.0408 89.3982,86.8332\" style=\"fill:none;fill-rule:evenodd;stroke:#000000;stroke-width:2px;stroke-linecap:butt;stroke-linejoin:miter;stroke-opacity:1\"/>\n",
       "<path d=\"M 40.1235,77.4953 18.1818,58.6019\" style=\"fill:none;fill-rule:evenodd;stroke:#000000;stroke-width:2px;stroke-linecap:butt;stroke-linejoin:miter;stroke-opacity:1\"/>\n",
       "<path d=\"M 89.3982,86.8332 116.731,77.2778\" style=\"fill:none;fill-rule:evenodd;stroke:#000000;stroke-width:2px;stroke-linecap:butt;stroke-linejoin:miter;stroke-opacity:1\"/>\n",
       "<path d=\"M 95.4092,90.8665 114.542,84.1778\" style=\"fill:none;fill-rule:evenodd;stroke:#000000;stroke-width:2px;stroke-linecap:butt;stroke-linejoin:miter;stroke-opacity:1;stroke-dasharray:6,6\"/>\n",
       "<path d=\"M 89.3982,86.8332 84.0069,115.282\" style=\"fill:none;fill-rule:evenodd;stroke:#000000;stroke-width:2px;stroke-linecap:butt;stroke-linejoin:miter;stroke-opacity:1\"/>\n",
       "<path d=\"M 94.2792,92.1788 90.5053,112.093\" style=\"fill:none;fill-rule:evenodd;stroke:#000000;stroke-width:2px;stroke-linecap:butt;stroke-linejoin:miter;stroke-opacity:1;stroke-dasharray:6,6\"/>\n",
       "<path d=\"M 116.731,77.2778 138.673,96.1712\" style=\"fill:none;fill-rule:evenodd;stroke:#000000;stroke-width:2px;stroke-linecap:butt;stroke-linejoin:miter;stroke-opacity:1\"/>\n",
       "<path d=\"M 116.244,84.5002 131.603,97.7255\" style=\"fill:none;fill-rule:evenodd;stroke:#000000;stroke-width:2px;stroke-linecap:butt;stroke-linejoin:miter;stroke-opacity:1;stroke-dasharray:6,6\"/>\n",
       "<path d=\"M 138.673,96.1712 133.282,124.62\" style=\"fill:none;fill-rule:evenodd;stroke:#000000;stroke-width:2px;stroke-linecap:butt;stroke-linejoin:miter;stroke-opacity:1\"/>\n",
       "<path d=\"M 132.174,99.3603 128.401,119.274\" style=\"fill:none;fill-rule:evenodd;stroke:#000000;stroke-width:2px;stroke-linecap:butt;stroke-linejoin:miter;stroke-opacity:1;stroke-dasharray:6,6\"/>\n",
       "<path d=\"M 133.282,124.62 155.223,143.513\" style=\"fill:none;fill-rule:evenodd;stroke:#000000;stroke-width:2px;stroke-linecap:butt;stroke-linejoin:miter;stroke-opacity:1\"/>\n",
       "<path d=\"M 133.282,124.62 105.949,134.175\" style=\"fill:none;fill-rule:evenodd;stroke:#000000;stroke-width:2px;stroke-linecap:butt;stroke-linejoin:miter;stroke-opacity:1\"/>\n",
       "<path d=\"M 127.271,120.587 108.137,127.275\" style=\"fill:none;fill-rule:evenodd;stroke:#000000;stroke-width:2px;stroke-linecap:butt;stroke-linejoin:miter;stroke-opacity:1;stroke-dasharray:6,6\"/>\n",
       "<path d=\"M 155.223,143.513 182.556,133.958\" style=\"fill:none;fill-rule:evenodd;stroke:#000000;stroke-width:2px;stroke-linecap:butt;stroke-linejoin:miter;stroke-opacity:1\"/>\n",
       "<path d=\"M 157.412,136.613 176.545,129.925\" style=\"fill:none;fill-rule:evenodd;stroke:#000000;stroke-width:2px;stroke-linecap:butt;stroke-linejoin:miter;stroke-opacity:1\"/>\n",
       "<path d=\"M 182.556,133.958 185.999,122.506\" style=\"fill:none;fill-rule:evenodd;stroke:#000000;stroke-width:2px;stroke-linecap:butt;stroke-linejoin:miter;stroke-opacity:1\"/>\n",
       "<path d=\"M 185.999,122.506 189.441,111.054\" style=\"fill:none;fill-rule:evenodd;stroke:#FF0000;stroke-width:2px;stroke-linecap:butt;stroke-linejoin:miter;stroke-opacity:1\"/>\n",
       "<path d=\"M 182.556,133.958 206.353,150.454\" style=\"fill:none;fill-rule:evenodd;stroke:#000000;stroke-width:2px;stroke-linecap:butt;stroke-linejoin:miter;stroke-opacity:1\"/>\n",
       "<path d=\"M 195.399,106.129 207.619,105.858\" style=\"fill:none;fill-rule:evenodd;stroke:#FF0000;stroke-width:2px;stroke-linecap:butt;stroke-linejoin:miter;stroke-opacity:1\"/>\n",
       "<path d=\"M 207.619,105.858 219.84,105.587\" style=\"fill:none;fill-rule:evenodd;stroke:#000000;stroke-width:2px;stroke-linecap:butt;stroke-linejoin:miter;stroke-opacity:1\"/>\n",
       "<path d=\"M 219.84,105.587 229.395,132.92\" style=\"fill:none;fill-rule:evenodd;stroke:#000000;stroke-width:2px;stroke-linecap:butt;stroke-linejoin:miter;stroke-opacity:1\"/>\n",
       "<path d=\"M 215.806,111.598 222.495,130.731\" style=\"fill:none;fill-rule:evenodd;stroke:#000000;stroke-width:2px;stroke-linecap:butt;stroke-linejoin:miter;stroke-opacity:1;stroke-dasharray:6,6\"/>\n",
       "<path d=\"M 219.84,105.587 238.733,83.6455\" style=\"fill:none;fill-rule:evenodd;stroke:#000000;stroke-width:2px;stroke-linecap:butt;stroke-linejoin:miter;stroke-opacity:1\"/>\n",
       "<path d=\"M 227.062,106.075 240.287,90.7154\" style=\"fill:none;fill-rule:evenodd;stroke:#000000;stroke-width:2px;stroke-linecap:butt;stroke-linejoin:miter;stroke-opacity:1;stroke-dasharray:6,6\"/>\n",
       "<path d=\"M 229.395,132.92 257.844,138.311\" style=\"fill:none;fill-rule:evenodd;stroke:#000000;stroke-width:2px;stroke-linecap:butt;stroke-linejoin:miter;stroke-opacity:1\"/>\n",
       "<path d=\"M 234.741,128.039 254.655,131.813\" style=\"fill:none;fill-rule:evenodd;stroke:#000000;stroke-width:2px;stroke-linecap:butt;stroke-linejoin:miter;stroke-opacity:1;stroke-dasharray:6,6\"/>\n",
       "<path d=\"M 229.395,132.92 206.353,150.454\" style=\"fill:none;fill-rule:evenodd;stroke:#000000;stroke-width:2px;stroke-linecap:butt;stroke-linejoin:miter;stroke-opacity:1\"/>\n",
       "<path d=\"M 257.844,138.311 276.737,116.37\" style=\"fill:none;fill-rule:evenodd;stroke:#000000;stroke-width:2px;stroke-linecap:butt;stroke-linejoin:miter;stroke-opacity:1\"/>\n",
       "<path d=\"M 256.289,131.242 269.515,115.882\" style=\"fill:none;fill-rule:evenodd;stroke:#000000;stroke-width:2px;stroke-linecap:butt;stroke-linejoin:miter;stroke-opacity:1;stroke-dasharray:6,6\"/>\n",
       "<path d=\"M 276.737,116.37 267.182,89.0368\" style=\"fill:none;fill-rule:evenodd;stroke:#000000;stroke-width:2px;stroke-linecap:butt;stroke-linejoin:miter;stroke-opacity:1\"/>\n",
       "<path d=\"M 269.837,114.181 263.148,95.0478\" style=\"fill:none;fill-rule:evenodd;stroke:#000000;stroke-width:2px;stroke-linecap:butt;stroke-linejoin:miter;stroke-opacity:1;stroke-dasharray:6,6\"/>\n",
       "<path d=\"M 267.182,89.0368 274.551,80.4789\" style=\"fill:none;fill-rule:evenodd;stroke:#000000;stroke-width:2px;stroke-linecap:butt;stroke-linejoin:miter;stroke-opacity:1\"/>\n",
       "<path d=\"M 274.551,80.4789 281.92,71.921\" style=\"fill:none;fill-rule:evenodd;stroke:#FF0000;stroke-width:2px;stroke-linecap:butt;stroke-linejoin:miter;stroke-opacity:1\"/>\n",
       "<path d=\"M 267.182,89.0368 238.733,83.6455\" style=\"fill:none;fill-rule:evenodd;stroke:#000000;stroke-width:2px;stroke-linecap:butt;stroke-linejoin:miter;stroke-opacity:1\"/>\n",
       "<path d=\"M 261.836,93.9179 241.922,90.144\" style=\"fill:none;fill-rule:evenodd;stroke:#000000;stroke-width:2px;stroke-linecap:butt;stroke-linejoin:miter;stroke-opacity:1;stroke-dasharray:6,6\"/>\n",
       "<path d=\"M 290.582,67.9493 302.553,70.2178\" style=\"fill:none;fill-rule:evenodd;stroke:#FF0000;stroke-width:2px;stroke-linecap:butt;stroke-linejoin:miter;stroke-opacity:1\"/>\n",
       "<path d=\"M 302.553,70.2178 314.524,72.4864\" style=\"fill:none;fill-rule:evenodd;stroke:#000000;stroke-width:2px;stroke-linecap:butt;stroke-linejoin:miter;stroke-opacity:1\"/>\n",
       "<path d=\"M 314.524,72.4864 333.417,50.5447\" style=\"fill:none;fill-rule:evenodd;stroke:#000000;stroke-width:2px;stroke-linecap:butt;stroke-linejoin:miter;stroke-opacity:1\"/>\n",
       "<path d=\"M 333.417,50.5447 342.654,52.2951\" style=\"fill:none;fill-rule:evenodd;stroke:#000000;stroke-width:2px;stroke-linecap:butt;stroke-linejoin:miter;stroke-opacity:1\"/>\n",
       "<path d=\"M 342.654,52.2951 351.89,54.0454\" style=\"fill:none;fill-rule:evenodd;stroke:#0000FF;stroke-width:2px;stroke-linecap:butt;stroke-linejoin:miter;stroke-opacity:1\"/>\n",
       "<path d=\"M 336.15,49.5892 332.216,38.3356\" style=\"fill:none;fill-rule:evenodd;stroke:#000000;stroke-width:2px;stroke-linecap:butt;stroke-linejoin:miter;stroke-opacity:1\"/>\n",
       "<path d=\"M 332.216,38.3356 328.282,27.082\" style=\"fill:none;fill-rule:evenodd;stroke:#FF0000;stroke-width:2px;stroke-linecap:butt;stroke-linejoin:miter;stroke-opacity:1\"/>\n",
       "<path d=\"M 330.684,51.5002 326.75,40.2467\" style=\"fill:none;fill-rule:evenodd;stroke:#000000;stroke-width:2px;stroke-linecap:butt;stroke-linejoin:miter;stroke-opacity:1\"/>\n",
       "<path d=\"M 326.75,40.2467 322.816,28.9931\" style=\"fill:none;fill-rule:evenodd;stroke:#FF0000;stroke-width:2px;stroke-linecap:butt;stroke-linejoin:miter;stroke-opacity:1\"/>\n",
       "<path d=\"M 238.733,83.6455 229.178,56.3125\" style=\"fill:none;fill-rule:evenodd;stroke:#000000;stroke-width:2px;stroke-linecap:butt;stroke-linejoin:miter;stroke-opacity:1\"/>\n",
       "<path d=\"M 203.458,150.518 203.725,162.579\" style=\"fill:none;fill-rule:evenodd;stroke:#000000;stroke-width:2px;stroke-linecap:butt;stroke-linejoin:miter;stroke-opacity:1\"/>\n",
       "<path d=\"M 203.725,162.579 203.992,174.641\" style=\"fill:none;fill-rule:evenodd;stroke:#FF0000;stroke-width:2px;stroke-linecap:butt;stroke-linejoin:miter;stroke-opacity:1\"/>\n",
       "<path d=\"M 209.247,150.39 209.515,162.451\" style=\"fill:none;fill-rule:evenodd;stroke:#000000;stroke-width:2px;stroke-linecap:butt;stroke-linejoin:miter;stroke-opacity:1\"/>\n",
       "<path d=\"M 209.515,162.451 209.782,174.512\" style=\"fill:none;fill-rule:evenodd;stroke:#FF0000;stroke-width:2px;stroke-linecap:butt;stroke-linejoin:miter;stroke-opacity:1\"/>\n",
       "<path d=\"M 105.949,134.175 84.0069,115.282\" style=\"fill:none;fill-rule:evenodd;stroke:#000000;stroke-width:2px;stroke-linecap:butt;stroke-linejoin:miter;stroke-opacity:1\"/>\n",
       "<path d=\"M 106.436,126.953 91.0768,113.728\" style=\"fill:none;fill-rule:evenodd;stroke:#000000;stroke-width:2px;stroke-linecap:butt;stroke-linejoin:miter;stroke-opacity:1;stroke-dasharray:6,6\"/>\n",
       "<text style=\"font-size:9px;font-style:normal;font-weight:normal;fill-opacity:1;stroke:none;font-family:sans-serif;text-anchor:start;fill:#0000FF\" x=\"57.3993\" y=\"73.2483\"><tspan>NH</tspan><tspan style=\"baseline-shift:super;font-size:6.75px;\">+</tspan><tspan/></text>\n",
       "<text style=\"font-size:9px;font-style:normal;font-weight:normal;fill-opacity:1;stroke:none;font-family:sans-serif;text-anchor:start;fill:#FF0000\" x=\"186.384\" y=\"111.054\"><tspan>O</tspan></text>\n",
       "<text style=\"font-size:9px;font-style:normal;font-weight:normal;fill-opacity:1;stroke:none;font-family:sans-serif;text-anchor:start;fill:#FF0000\" x=\"281.568\" y=\"71.921\"><tspan>O</tspan></text>\n",
       "<text style=\"font-size:9px;font-style:normal;font-weight:normal;fill-opacity:1;stroke:none;font-family:sans-serif;text-anchor:start;fill:#0000FF\" x=\"351.89\" y=\"61.2444\"><tspan>NH</tspan><tspan style=\"baseline-shift:sub;font-size:6.75px;\">2</tspan><tspan/></text>\n",
       "<text style=\"font-size:9px;font-style:normal;font-weight:normal;fill-opacity:1;stroke:none;font-family:sans-serif;text-anchor:start;fill:#FF0000\" x=\"319.355\" y=\"28.0376\"><tspan>O</tspan></text>\n",
       "<text style=\"font-size:9px;font-style:normal;font-weight:normal;fill-opacity:1;stroke:none;font-family:sans-serif;text-anchor:start;fill:#FF0000\" x=\"202.487\" y=\"184.228\"><tspan>O</tspan></text>\n",
       "</svg>"
      ],
      "text/plain": [
       "<IPython.core.display.SVG object>"
      ]
     },
     "execution_count": 201,
     "metadata": {},
     "output_type": "execute_result"
    }
   ],
   "source": [
    "from IPython.display import SVG\n",
    "SVG(draw2())"
   ]
  },
  {
   "cell_type": "code",
   "execution_count": 202,
   "metadata": {},
   "outputs": [
    {
     "data": {
      "image/svg+xml": [
       "<svg baseProfile=\"full\" height=\"200px\" version=\"1.1\" width=\"400px\" xml:space=\"preserve\" xmlns=\"http://www.w3.org/2000/svg\" xmlns:rdkit=\"http://www.rdkit.org/xml\" xmlns:xlink=\"http://www.w3.org/1999/xlink\">\n",
       "<rect height=\"200\" style=\"opacity:1.0;fill:#FFFFFF;stroke:none\" width=\"400\" x=\"0\" y=\"0\"> </rect>\n",
       "<path d=\"M 50.9061,20.5978 72.8478,39.4911\" style=\"fill:none;fill-rule:evenodd;stroke:#F8F2EE;stroke-width:12px;stroke-linecap:butt;stroke-linejoin:miter;stroke-opacity:1\"/>\n",
       "<path d=\"M 72.8478,39.4911 67.4565,67.9399\" style=\"fill:none;fill-rule:evenodd;stroke:#FACEB6;stroke-width:12px;stroke-linecap:butt;stroke-linejoin:miter;stroke-opacity:1\"/>\n",
       "<path d=\"M 67.4565,67.9399 40.1235,77.4953\" style=\"fill:none;fill-rule:evenodd;stroke:#FACAB1;stroke-width:12px;stroke-linecap:butt;stroke-linejoin:miter;stroke-opacity:1\"/>\n",
       "<path d=\"M 67.4565,67.9399 89.3982,86.8332\" style=\"fill:none;fill-rule:evenodd;stroke:#F6F6F6;stroke-width:12px;stroke-linecap:butt;stroke-linejoin:miter;stroke-opacity:1\"/>\n",
       "<path d=\"M 40.1235,77.4953 18.1818,58.6019\" style=\"fill:none;fill-rule:evenodd;stroke:#F9EAE1;stroke-width:12px;stroke-linecap:butt;stroke-linejoin:miter;stroke-opacity:1\"/>\n",
       "<path d=\"M 89.3982,86.8332 116.731,77.2778\" style=\"fill:none;fill-rule:evenodd;stroke:#F6F6F6;stroke-width:12px;stroke-linecap:butt;stroke-linejoin:miter;stroke-opacity:1\"/>\n",
       "<path d=\"M 89.3982,86.8332 84.0069,115.282\" style=\"fill:none;fill-rule:evenodd;stroke:#F8F2EE;stroke-width:12px;stroke-linecap:butt;stroke-linejoin:miter;stroke-opacity:1\"/>\n",
       "<path d=\"M 116.731,77.2778 138.673,96.1712\" style=\"fill:none;fill-rule:evenodd;stroke:#FBE3D6;stroke-width:12px;stroke-linecap:butt;stroke-linejoin:miter;stroke-opacity:1\"/>\n",
       "<path d=\"M 138.673,96.1712 133.282,124.62\" style=\"fill:none;fill-rule:evenodd;stroke:#ABD2E5;stroke-width:12px;stroke-linecap:butt;stroke-linejoin:miter;stroke-opacity:1\"/>\n",
       "<path d=\"M 133.282,124.62 155.223,143.513\" style=\"fill:none;fill-rule:evenodd;stroke:#276DB0;stroke-width:12px;stroke-linecap:butt;stroke-linejoin:miter;stroke-opacity:1\"/>\n",
       "<path d=\"M 133.282,124.62 105.949,134.175\" style=\"fill:none;fill-rule:evenodd;stroke:#559EC9;stroke-width:12px;stroke-linecap:butt;stroke-linejoin:miter;stroke-opacity:1\"/>\n",
       "<path d=\"M 155.223,143.513 182.556,133.958\" style=\"fill:none;fill-rule:evenodd;stroke:#2166AC;stroke-width:12px;stroke-linecap:butt;stroke-linejoin:miter;stroke-opacity:1\"/>\n",
       "<path d=\"M 182.556,133.958 190.892,106.229\" style=\"fill:none;fill-rule:evenodd;stroke:#1E60A4;stroke-width:12px;stroke-linecap:butt;stroke-linejoin:miter;stroke-opacity:1\"/>\n",
       "<path d=\"M 182.556,133.958 206.353,150.454\" style=\"fill:none;fill-rule:evenodd;stroke:#5EA4CC;stroke-width:12px;stroke-linecap:butt;stroke-linejoin:miter;stroke-opacity:1\"/>\n",
       "<path d=\"M 190.892,106.229 219.84,105.587\" style=\"fill:none;fill-rule:evenodd;stroke:#8AC0DB;stroke-width:12px;stroke-linecap:butt;stroke-linejoin:miter;stroke-opacity:1\"/>\n",
       "<path d=\"M 219.84,105.587 229.395,132.92\" style=\"fill:none;fill-rule:evenodd;stroke:#68AACF;stroke-width:12px;stroke-linecap:butt;stroke-linejoin:miter;stroke-opacity:1\"/>\n",
       "<path d=\"M 219.84,105.587 238.733,83.6455\" style=\"fill:none;fill-rule:evenodd;stroke:#90C4DD;stroke-width:12px;stroke-linecap:butt;stroke-linejoin:miter;stroke-opacity:1\"/>\n",
       "<path d=\"M 229.395,132.92 257.844,138.311\" style=\"fill:none;fill-rule:evenodd;stroke:#D8E8F1;stroke-width:12px;stroke-linecap:butt;stroke-linejoin:miter;stroke-opacity:1\"/>\n",
       "<path d=\"M 229.395,132.92 206.353,150.454\" style=\"fill:none;fill-rule:evenodd;stroke:#529CC8;stroke-width:12px;stroke-linecap:butt;stroke-linejoin:miter;stroke-opacity:1\"/>\n",
       "<path d=\"M 257.844,138.311 276.737,116.37\" style=\"fill:none;fill-rule:evenodd;stroke:#F1F4F6;stroke-width:12px;stroke-linecap:butt;stroke-linejoin:miter;stroke-opacity:1\"/>\n",
       "<path d=\"M 276.737,116.37 267.182,89.0368\" style=\"fill:none;fill-rule:evenodd;stroke:#4C98C6;stroke-width:12px;stroke-linecap:butt;stroke-linejoin:miter;stroke-opacity:1\"/>\n",
       "<path d=\"M 267.182,89.0368 286.075,67.0951\" style=\"fill:none;fill-rule:evenodd;stroke:#D1E5F0;stroke-width:12px;stroke-linecap:butt;stroke-linejoin:miter;stroke-opacity:1\"/>\n",
       "<path d=\"M 267.182,89.0368 238.733,83.6455\" style=\"fill:none;fill-rule:evenodd;stroke:#93C5DE;stroke-width:12px;stroke-linecap:butt;stroke-linejoin:miter;stroke-opacity:1\"/>\n",
       "<path d=\"M 286.075,67.0951 314.524,72.4864\" style=\"fill:none;fill-rule:evenodd;stroke:#E7EFF4;stroke-width:12px;stroke-linecap:butt;stroke-linejoin:miter;stroke-opacity:1\"/>\n",
       "<path d=\"M 314.524,72.4864 333.417,50.5447\" style=\"fill:none;fill-rule:evenodd;stroke:#BDDAEA;stroke-width:12px;stroke-linecap:butt;stroke-linejoin:miter;stroke-opacity:1\"/>\n",
       "<path d=\"M 333.417,50.5447 361.866,55.936\" style=\"fill:none;fill-rule:evenodd;stroke:#FCD6C1;stroke-width:12px;stroke-linecap:butt;stroke-linejoin:miter;stroke-opacity:1\"/>\n",
       "<path d=\"M 333.417,50.5447 323.862,23.2117\" style=\"fill:none;fill-rule:evenodd;stroke:#FBE3D6;stroke-width:12px;stroke-linecap:butt;stroke-linejoin:miter;stroke-opacity:1\"/>\n",
       "<path d=\"M 238.733,83.6455 229.178,56.3125\" style=\"fill:none;fill-rule:evenodd;stroke:#FDDBC7;stroke-width:12px;stroke-linecap:butt;stroke-linejoin:miter;stroke-opacity:1\"/>\n",
       "<path d=\"M 206.353,150.454 206.994,179.402\" style=\"fill:none;fill-rule:evenodd;stroke:#F4F5F6;stroke-width:12px;stroke-linecap:butt;stroke-linejoin:miter;stroke-opacity:1\"/>\n",
       "<path d=\"M 105.949,134.175 84.0069,115.282\" style=\"fill:none;fill-rule:evenodd;stroke:#F8EEE8;stroke-width:12px;stroke-linecap:butt;stroke-linejoin:miter;stroke-opacity:1\"/>\n",
       "<path d=\"M 50.9061,20.5978 72.8478,39.4911\" style=\"fill:none;fill-rule:evenodd;stroke:#000000;stroke-width:2px;stroke-linecap:butt;stroke-linejoin:miter;stroke-opacity:1\"/>\n",
       "<path d=\"M 72.8478,39.4911 70.6551,51.0613\" style=\"fill:none;fill-rule:evenodd;stroke:#000000;stroke-width:2px;stroke-linecap:butt;stroke-linejoin:miter;stroke-opacity:1\"/>\n",
       "<path d=\"M 70.6551,51.0613 68.4625,62.6314\" style=\"fill:none;fill-rule:evenodd;stroke:#0000FF;stroke-width:2px;stroke-linecap:butt;stroke-linejoin:miter;stroke-opacity:1\"/>\n",
       "<path d=\"M 57.3993,71.4558 48.7614,74.4755\" style=\"fill:none;fill-rule:evenodd;stroke:#0000FF;stroke-width:2px;stroke-linecap:butt;stroke-linejoin:miter;stroke-opacity:1\"/>\n",
       "<path d=\"M 48.7614,74.4755 40.1235,77.4953\" style=\"fill:none;fill-rule:evenodd;stroke:#000000;stroke-width:2px;stroke-linecap:butt;stroke-linejoin:miter;stroke-opacity:1\"/>\n",
       "<path d=\"M 73.6214,73.2483 81.5098,80.0408\" style=\"fill:none;fill-rule:evenodd;stroke:#0000FF;stroke-width:2px;stroke-linecap:butt;stroke-linejoin:miter;stroke-opacity:1\"/>\n",
       "<path d=\"M 81.5098,80.0408 89.3982,86.8332\" style=\"fill:none;fill-rule:evenodd;stroke:#000000;stroke-width:2px;stroke-linecap:butt;stroke-linejoin:miter;stroke-opacity:1\"/>\n",
       "<path d=\"M 40.1235,77.4953 18.1818,58.6019\" style=\"fill:none;fill-rule:evenodd;stroke:#000000;stroke-width:2px;stroke-linecap:butt;stroke-linejoin:miter;stroke-opacity:1\"/>\n",
       "<path d=\"M 89.3982,86.8332 116.731,77.2778\" style=\"fill:none;fill-rule:evenodd;stroke:#000000;stroke-width:2px;stroke-linecap:butt;stroke-linejoin:miter;stroke-opacity:1\"/>\n",
       "<path d=\"M 95.4092,90.8665 114.542,84.1778\" style=\"fill:none;fill-rule:evenodd;stroke:#000000;stroke-width:2px;stroke-linecap:butt;stroke-linejoin:miter;stroke-opacity:1;stroke-dasharray:6,6\"/>\n",
       "<path d=\"M 89.3982,86.8332 84.0069,115.282\" style=\"fill:none;fill-rule:evenodd;stroke:#000000;stroke-width:2px;stroke-linecap:butt;stroke-linejoin:miter;stroke-opacity:1\"/>\n",
       "<path d=\"M 94.2792,92.1788 90.5053,112.093\" style=\"fill:none;fill-rule:evenodd;stroke:#000000;stroke-width:2px;stroke-linecap:butt;stroke-linejoin:miter;stroke-opacity:1;stroke-dasharray:6,6\"/>\n",
       "<path d=\"M 116.731,77.2778 138.673,96.1712\" style=\"fill:none;fill-rule:evenodd;stroke:#000000;stroke-width:2px;stroke-linecap:butt;stroke-linejoin:miter;stroke-opacity:1\"/>\n",
       "<path d=\"M 116.244,84.5002 131.603,97.7255\" style=\"fill:none;fill-rule:evenodd;stroke:#000000;stroke-width:2px;stroke-linecap:butt;stroke-linejoin:miter;stroke-opacity:1;stroke-dasharray:6,6\"/>\n",
       "<path d=\"M 138.673,96.1712 133.282,124.62\" style=\"fill:none;fill-rule:evenodd;stroke:#000000;stroke-width:2px;stroke-linecap:butt;stroke-linejoin:miter;stroke-opacity:1\"/>\n",
       "<path d=\"M 132.174,99.3603 128.401,119.274\" style=\"fill:none;fill-rule:evenodd;stroke:#000000;stroke-width:2px;stroke-linecap:butt;stroke-linejoin:miter;stroke-opacity:1;stroke-dasharray:6,6\"/>\n",
       "<path d=\"M 133.282,124.62 155.223,143.513\" style=\"fill:none;fill-rule:evenodd;stroke:#000000;stroke-width:2px;stroke-linecap:butt;stroke-linejoin:miter;stroke-opacity:1\"/>\n",
       "<path d=\"M 133.282,124.62 105.949,134.175\" style=\"fill:none;fill-rule:evenodd;stroke:#000000;stroke-width:2px;stroke-linecap:butt;stroke-linejoin:miter;stroke-opacity:1\"/>\n",
       "<path d=\"M 127.271,120.587 108.137,127.275\" style=\"fill:none;fill-rule:evenodd;stroke:#000000;stroke-width:2px;stroke-linecap:butt;stroke-linejoin:miter;stroke-opacity:1;stroke-dasharray:6,6\"/>\n",
       "<path d=\"M 155.223,143.513 182.556,133.958\" style=\"fill:none;fill-rule:evenodd;stroke:#000000;stroke-width:2px;stroke-linecap:butt;stroke-linejoin:miter;stroke-opacity:1\"/>\n",
       "<path d=\"M 157.412,136.613 176.545,129.925\" style=\"fill:none;fill-rule:evenodd;stroke:#000000;stroke-width:2px;stroke-linecap:butt;stroke-linejoin:miter;stroke-opacity:1\"/>\n",
       "<path d=\"M 182.556,133.958 185.999,122.506\" style=\"fill:none;fill-rule:evenodd;stroke:#000000;stroke-width:2px;stroke-linecap:butt;stroke-linejoin:miter;stroke-opacity:1\"/>\n",
       "<path d=\"M 185.999,122.506 189.441,111.054\" style=\"fill:none;fill-rule:evenodd;stroke:#FF0000;stroke-width:2px;stroke-linecap:butt;stroke-linejoin:miter;stroke-opacity:1\"/>\n",
       "<path d=\"M 182.556,133.958 206.353,150.454\" style=\"fill:none;fill-rule:evenodd;stroke:#000000;stroke-width:2px;stroke-linecap:butt;stroke-linejoin:miter;stroke-opacity:1\"/>\n",
       "<path d=\"M 195.399,106.129 207.619,105.858\" style=\"fill:none;fill-rule:evenodd;stroke:#FF0000;stroke-width:2px;stroke-linecap:butt;stroke-linejoin:miter;stroke-opacity:1\"/>\n",
       "<path d=\"M 207.619,105.858 219.84,105.587\" style=\"fill:none;fill-rule:evenodd;stroke:#000000;stroke-width:2px;stroke-linecap:butt;stroke-linejoin:miter;stroke-opacity:1\"/>\n",
       "<path d=\"M 219.84,105.587 229.395,132.92\" style=\"fill:none;fill-rule:evenodd;stroke:#000000;stroke-width:2px;stroke-linecap:butt;stroke-linejoin:miter;stroke-opacity:1\"/>\n",
       "<path d=\"M 215.806,111.598 222.495,130.731\" style=\"fill:none;fill-rule:evenodd;stroke:#000000;stroke-width:2px;stroke-linecap:butt;stroke-linejoin:miter;stroke-opacity:1;stroke-dasharray:6,6\"/>\n",
       "<path d=\"M 219.84,105.587 238.733,83.6455\" style=\"fill:none;fill-rule:evenodd;stroke:#000000;stroke-width:2px;stroke-linecap:butt;stroke-linejoin:miter;stroke-opacity:1\"/>\n",
       "<path d=\"M 227.062,106.075 240.287,90.7154\" style=\"fill:none;fill-rule:evenodd;stroke:#000000;stroke-width:2px;stroke-linecap:butt;stroke-linejoin:miter;stroke-opacity:1;stroke-dasharray:6,6\"/>\n",
       "<path d=\"M 229.395,132.92 257.844,138.311\" style=\"fill:none;fill-rule:evenodd;stroke:#000000;stroke-width:2px;stroke-linecap:butt;stroke-linejoin:miter;stroke-opacity:1\"/>\n",
       "<path d=\"M 234.741,128.039 254.655,131.813\" style=\"fill:none;fill-rule:evenodd;stroke:#000000;stroke-width:2px;stroke-linecap:butt;stroke-linejoin:miter;stroke-opacity:1;stroke-dasharray:6,6\"/>\n",
       "<path d=\"M 229.395,132.92 206.353,150.454\" style=\"fill:none;fill-rule:evenodd;stroke:#000000;stroke-width:2px;stroke-linecap:butt;stroke-linejoin:miter;stroke-opacity:1\"/>\n",
       "<path d=\"M 257.844,138.311 276.737,116.37\" style=\"fill:none;fill-rule:evenodd;stroke:#000000;stroke-width:2px;stroke-linecap:butt;stroke-linejoin:miter;stroke-opacity:1\"/>\n",
       "<path d=\"M 256.289,131.242 269.515,115.882\" style=\"fill:none;fill-rule:evenodd;stroke:#000000;stroke-width:2px;stroke-linecap:butt;stroke-linejoin:miter;stroke-opacity:1;stroke-dasharray:6,6\"/>\n",
       "<path d=\"M 276.737,116.37 267.182,89.0368\" style=\"fill:none;fill-rule:evenodd;stroke:#000000;stroke-width:2px;stroke-linecap:butt;stroke-linejoin:miter;stroke-opacity:1\"/>\n",
       "<path d=\"M 269.837,114.181 263.148,95.0478\" style=\"fill:none;fill-rule:evenodd;stroke:#000000;stroke-width:2px;stroke-linecap:butt;stroke-linejoin:miter;stroke-opacity:1;stroke-dasharray:6,6\"/>\n",
       "<path d=\"M 267.182,89.0368 274.551,80.4789\" style=\"fill:none;fill-rule:evenodd;stroke:#000000;stroke-width:2px;stroke-linecap:butt;stroke-linejoin:miter;stroke-opacity:1\"/>\n",
       "<path d=\"M 274.551,80.4789 281.92,71.921\" style=\"fill:none;fill-rule:evenodd;stroke:#FF0000;stroke-width:2px;stroke-linecap:butt;stroke-linejoin:miter;stroke-opacity:1\"/>\n",
       "<path d=\"M 267.182,89.0368 238.733,83.6455\" style=\"fill:none;fill-rule:evenodd;stroke:#000000;stroke-width:2px;stroke-linecap:butt;stroke-linejoin:miter;stroke-opacity:1\"/>\n",
       "<path d=\"M 261.836,93.9179 241.922,90.144\" style=\"fill:none;fill-rule:evenodd;stroke:#000000;stroke-width:2px;stroke-linecap:butt;stroke-linejoin:miter;stroke-opacity:1;stroke-dasharray:6,6\"/>\n",
       "<path d=\"M 290.582,67.9493 302.553,70.2178\" style=\"fill:none;fill-rule:evenodd;stroke:#FF0000;stroke-width:2px;stroke-linecap:butt;stroke-linejoin:miter;stroke-opacity:1\"/>\n",
       "<path d=\"M 302.553,70.2178 314.524,72.4864\" style=\"fill:none;fill-rule:evenodd;stroke:#000000;stroke-width:2px;stroke-linecap:butt;stroke-linejoin:miter;stroke-opacity:1\"/>\n",
       "<path d=\"M 314.524,72.4864 333.417,50.5447\" style=\"fill:none;fill-rule:evenodd;stroke:#000000;stroke-width:2px;stroke-linecap:butt;stroke-linejoin:miter;stroke-opacity:1\"/>\n",
       "<path d=\"M 333.417,50.5447 342.654,52.2951\" style=\"fill:none;fill-rule:evenodd;stroke:#000000;stroke-width:2px;stroke-linecap:butt;stroke-linejoin:miter;stroke-opacity:1\"/>\n",
       "<path d=\"M 342.654,52.2951 351.89,54.0454\" style=\"fill:none;fill-rule:evenodd;stroke:#0000FF;stroke-width:2px;stroke-linecap:butt;stroke-linejoin:miter;stroke-opacity:1\"/>\n",
       "<path d=\"M 336.15,49.5892 332.216,38.3356\" style=\"fill:none;fill-rule:evenodd;stroke:#000000;stroke-width:2px;stroke-linecap:butt;stroke-linejoin:miter;stroke-opacity:1\"/>\n",
       "<path d=\"M 332.216,38.3356 328.282,27.082\" style=\"fill:none;fill-rule:evenodd;stroke:#FF0000;stroke-width:2px;stroke-linecap:butt;stroke-linejoin:miter;stroke-opacity:1\"/>\n",
       "<path d=\"M 330.684,51.5002 326.75,40.2467\" style=\"fill:none;fill-rule:evenodd;stroke:#000000;stroke-width:2px;stroke-linecap:butt;stroke-linejoin:miter;stroke-opacity:1\"/>\n",
       "<path d=\"M 326.75,40.2467 322.816,28.9931\" style=\"fill:none;fill-rule:evenodd;stroke:#FF0000;stroke-width:2px;stroke-linecap:butt;stroke-linejoin:miter;stroke-opacity:1\"/>\n",
       "<path d=\"M 238.733,83.6455 229.178,56.3125\" style=\"fill:none;fill-rule:evenodd;stroke:#000000;stroke-width:2px;stroke-linecap:butt;stroke-linejoin:miter;stroke-opacity:1\"/>\n",
       "<path d=\"M 203.458,150.518 203.725,162.579\" style=\"fill:none;fill-rule:evenodd;stroke:#000000;stroke-width:2px;stroke-linecap:butt;stroke-linejoin:miter;stroke-opacity:1\"/>\n",
       "<path d=\"M 203.725,162.579 203.992,174.641\" style=\"fill:none;fill-rule:evenodd;stroke:#FF0000;stroke-width:2px;stroke-linecap:butt;stroke-linejoin:miter;stroke-opacity:1\"/>\n",
       "<path d=\"M 209.247,150.39 209.515,162.451\" style=\"fill:none;fill-rule:evenodd;stroke:#000000;stroke-width:2px;stroke-linecap:butt;stroke-linejoin:miter;stroke-opacity:1\"/>\n",
       "<path d=\"M 209.515,162.451 209.782,174.512\" style=\"fill:none;fill-rule:evenodd;stroke:#FF0000;stroke-width:2px;stroke-linecap:butt;stroke-linejoin:miter;stroke-opacity:1\"/>\n",
       "<path d=\"M 105.949,134.175 84.0069,115.282\" style=\"fill:none;fill-rule:evenodd;stroke:#000000;stroke-width:2px;stroke-linecap:butt;stroke-linejoin:miter;stroke-opacity:1\"/>\n",
       "<path d=\"M 106.436,126.953 91.0768,113.728\" style=\"fill:none;fill-rule:evenodd;stroke:#000000;stroke-width:2px;stroke-linecap:butt;stroke-linejoin:miter;stroke-opacity:1;stroke-dasharray:6,6\"/>\n",
       "<text style=\"font-size:9px;font-style:normal;font-weight:normal;fill-opacity:1;stroke:none;font-family:sans-serif;text-anchor:start;fill:#0000FF\" x=\"57.3993\" y=\"73.2483\"><tspan>NH</tspan><tspan style=\"baseline-shift:super;font-size:6.75px;\">+</tspan><tspan/></text>\n",
       "<text style=\"font-size:9px;font-style:normal;font-weight:normal;fill-opacity:1;stroke:none;font-family:sans-serif;text-anchor:start;fill:#FF0000\" x=\"186.384\" y=\"111.054\"><tspan>O</tspan></text>\n",
       "<text style=\"font-size:9px;font-style:normal;font-weight:normal;fill-opacity:1;stroke:none;font-family:sans-serif;text-anchor:start;fill:#FF0000\" x=\"281.568\" y=\"71.921\"><tspan>O</tspan></text>\n",
       "<text style=\"font-size:9px;font-style:normal;font-weight:normal;fill-opacity:1;stroke:none;font-family:sans-serif;text-anchor:start;fill:#0000FF\" x=\"351.89\" y=\"61.2444\"><tspan>NH</tspan><tspan style=\"baseline-shift:sub;font-size:6.75px;\">2</tspan><tspan/></text>\n",
       "<text style=\"font-size:9px;font-style:normal;font-weight:normal;fill-opacity:1;stroke:none;font-family:sans-serif;text-anchor:start;fill:#FF0000\" x=\"319.355\" y=\"28.0376\"><tspan>O</tspan></text>\n",
       "<text style=\"font-size:9px;font-style:normal;font-weight:normal;fill-opacity:1;stroke:none;font-family:sans-serif;text-anchor:start;fill:#FF0000\" x=\"202.487\" y=\"184.228\"><tspan>O</tspan></text>\n",
       "</svg>"
      ],
      "text/plain": [
       "<IPython.core.display.SVG object>"
      ]
     },
     "execution_count": 202,
     "metadata": {},
     "output_type": "execute_result"
    }
   ],
   "source": [
    "SVG(draw3())"
   ]
  },
  {
   "cell_type": "code",
   "execution_count": 204,
   "metadata": {},
   "outputs": [
    {
     "data": {
      "image/svg+xml": [
       "<svg baseProfile=\"full\" height=\"200px\" version=\"1.1\" width=\"400px\" xml:space=\"preserve\" xmlns=\"http://www.w3.org/2000/svg\" xmlns:rdkit=\"http://www.rdkit.org/xml\" xmlns:xlink=\"http://www.w3.org/1999/xlink\">\n",
       "<rect height=\"200\" style=\"opacity:1.0;fill:#FFFFFF;stroke:none\" width=\"400\" x=\"0\" y=\"0\"> </rect>\n",
       "<path d=\"M 50.9061,20.5978 72.8478,39.4911\" style=\"fill:none;fill-rule:evenodd;stroke:#F8F2EE;stroke-width:12px;stroke-linecap:butt;stroke-linejoin:miter;stroke-opacity:1\"/>\n",
       "<path d=\"M 72.8478,39.4911 67.4565,67.9399\" style=\"fill:none;fill-rule:evenodd;stroke:#FACEB6;stroke-width:12px;stroke-linecap:butt;stroke-linejoin:miter;stroke-opacity:1\"/>\n",
       "<path d=\"M 67.4565,67.9399 40.1235,77.4953\" style=\"fill:none;fill-rule:evenodd;stroke:#FACAB1;stroke-width:12px;stroke-linecap:butt;stroke-linejoin:miter;stroke-opacity:1\"/>\n",
       "<path d=\"M 67.4565,67.9399 89.3982,86.8332\" style=\"fill:none;fill-rule:evenodd;stroke:#F6F6F6;stroke-width:12px;stroke-linecap:butt;stroke-linejoin:miter;stroke-opacity:1\"/>\n",
       "<path d=\"M 40.1235,77.4953 18.1818,58.6019\" style=\"fill:none;fill-rule:evenodd;stroke:#F9EAE1;stroke-width:12px;stroke-linecap:butt;stroke-linejoin:miter;stroke-opacity:1\"/>\n",
       "<path d=\"M 89.3982,86.8332 116.731,77.2778\" style=\"fill:none;fill-rule:evenodd;stroke:#F6F6F6;stroke-width:12px;stroke-linecap:butt;stroke-linejoin:miter;stroke-opacity:1\"/>\n",
       "<path d=\"M 89.3982,86.8332 84.0069,115.282\" style=\"fill:none;fill-rule:evenodd;stroke:#F8F2EE;stroke-width:12px;stroke-linecap:butt;stroke-linejoin:miter;stroke-opacity:1\"/>\n",
       "<path d=\"M 116.731,77.2778 138.673,96.1712\" style=\"fill:none;fill-rule:evenodd;stroke:#FBE3D6;stroke-width:12px;stroke-linecap:butt;stroke-linejoin:miter;stroke-opacity:1\"/>\n",
       "<path d=\"M 138.673,96.1712 133.282,124.62\" style=\"fill:none;fill-rule:evenodd;stroke:#ABD2E5;stroke-width:12px;stroke-linecap:butt;stroke-linejoin:miter;stroke-opacity:1\"/>\n",
       "<path d=\"M 133.282,124.62 155.223,143.513\" style=\"fill:none;fill-rule:evenodd;stroke:#276DB0;stroke-width:12px;stroke-linecap:butt;stroke-linejoin:miter;stroke-opacity:1\"/>\n",
       "<path d=\"M 133.282,124.62 105.949,134.175\" style=\"fill:none;fill-rule:evenodd;stroke:#559EC9;stroke-width:12px;stroke-linecap:butt;stroke-linejoin:miter;stroke-opacity:1\"/>\n",
       "<path d=\"M 155.223,143.513 182.556,133.958\" style=\"fill:none;fill-rule:evenodd;stroke:#2166AC;stroke-width:12px;stroke-linecap:butt;stroke-linejoin:miter;stroke-opacity:1\"/>\n",
       "<path d=\"M 182.556,133.958 190.892,106.229\" style=\"fill:none;fill-rule:evenodd;stroke:#1E60A4;stroke-width:12px;stroke-linecap:butt;stroke-linejoin:miter;stroke-opacity:1\"/>\n",
       "<path d=\"M 182.556,133.958 206.353,150.454\" style=\"fill:none;fill-rule:evenodd;stroke:#5EA4CC;stroke-width:12px;stroke-linecap:butt;stroke-linejoin:miter;stroke-opacity:1\"/>\n",
       "<path d=\"M 190.892,106.229 219.84,105.587\" style=\"fill:none;fill-rule:evenodd;stroke:#8AC0DB;stroke-width:12px;stroke-linecap:butt;stroke-linejoin:miter;stroke-opacity:1\"/>\n",
       "<path d=\"M 219.84,105.587 229.395,132.92\" style=\"fill:none;fill-rule:evenodd;stroke:#68AACF;stroke-width:12px;stroke-linecap:butt;stroke-linejoin:miter;stroke-opacity:1\"/>\n",
       "<path d=\"M 219.84,105.587 238.733,83.6455\" style=\"fill:none;fill-rule:evenodd;stroke:#90C4DD;stroke-width:12px;stroke-linecap:butt;stroke-linejoin:miter;stroke-opacity:1\"/>\n",
       "<path d=\"M 229.395,132.92 257.844,138.311\" style=\"fill:none;fill-rule:evenodd;stroke:#D8E8F1;stroke-width:12px;stroke-linecap:butt;stroke-linejoin:miter;stroke-opacity:1\"/>\n",
       "<path d=\"M 229.395,132.92 206.353,150.454\" style=\"fill:none;fill-rule:evenodd;stroke:#529CC8;stroke-width:12px;stroke-linecap:butt;stroke-linejoin:miter;stroke-opacity:1\"/>\n",
       "<path d=\"M 257.844,138.311 276.737,116.37\" style=\"fill:none;fill-rule:evenodd;stroke:#F1F4F6;stroke-width:12px;stroke-linecap:butt;stroke-linejoin:miter;stroke-opacity:1\"/>\n",
       "<path d=\"M 276.737,116.37 267.182,89.0368\" style=\"fill:none;fill-rule:evenodd;stroke:#4C98C6;stroke-width:12px;stroke-linecap:butt;stroke-linejoin:miter;stroke-opacity:1\"/>\n",
       "<path d=\"M 267.182,89.0368 286.075,67.0951\" style=\"fill:none;fill-rule:evenodd;stroke:#D1E5F0;stroke-width:12px;stroke-linecap:butt;stroke-linejoin:miter;stroke-opacity:1\"/>\n",
       "<path d=\"M 267.182,89.0368 238.733,83.6455\" style=\"fill:none;fill-rule:evenodd;stroke:#93C5DE;stroke-width:12px;stroke-linecap:butt;stroke-linejoin:miter;stroke-opacity:1\"/>\n",
       "<path d=\"M 286.075,67.0951 314.524,72.4864\" style=\"fill:none;fill-rule:evenodd;stroke:#E7EFF4;stroke-width:12px;stroke-linecap:butt;stroke-linejoin:miter;stroke-opacity:1\"/>\n",
       "<path d=\"M 314.524,72.4864 333.417,50.5447\" style=\"fill:none;fill-rule:evenodd;stroke:#BDDAEA;stroke-width:12px;stroke-linecap:butt;stroke-linejoin:miter;stroke-opacity:1\"/>\n",
       "<path d=\"M 333.417,50.5447 361.866,55.936\" style=\"fill:none;fill-rule:evenodd;stroke:#FCD6C1;stroke-width:12px;stroke-linecap:butt;stroke-linejoin:miter;stroke-opacity:1\"/>\n",
       "<path d=\"M 333.417,50.5447 323.862,23.2117\" style=\"fill:none;fill-rule:evenodd;stroke:#FBE3D6;stroke-width:12px;stroke-linecap:butt;stroke-linejoin:miter;stroke-opacity:1\"/>\n",
       "<path d=\"M 238.733,83.6455 229.178,56.3125\" style=\"fill:none;fill-rule:evenodd;stroke:#FDDBC7;stroke-width:12px;stroke-linecap:butt;stroke-linejoin:miter;stroke-opacity:1\"/>\n",
       "<path d=\"M 206.353,150.454 206.994,179.402\" style=\"fill:none;fill-rule:evenodd;stroke:#F4F5F6;stroke-width:12px;stroke-linecap:butt;stroke-linejoin:miter;stroke-opacity:1\"/>\n",
       "<path d=\"M 105.949,134.175 84.0069,115.282\" style=\"fill:none;fill-rule:evenodd;stroke:#F8EEE8;stroke-width:12px;stroke-linecap:butt;stroke-linejoin:miter;stroke-opacity:1\"/>\n",
       "<ellipse cx=\"50.9061\" cy=\"20.5978\" rx=\"7.72136\" ry=\"7.72136\" style=\"fill:#F8EEE8;fill-rule:evenodd;stroke:#F8EEE8;stroke-width:1px;stroke-linecap:butt;stroke-linejoin:miter;stroke-opacity:1\"/>\n",
       "<ellipse cx=\"72.8478\" cy=\"39.4911\" rx=\"7.72136\" ry=\"7.72136\" style=\"fill:#FBD4BE;fill-rule:evenodd;stroke:#FBD4BE;stroke-width:1px;stroke-linecap:butt;stroke-linejoin:miter;stroke-opacity:1\"/>\n",
       "<ellipse cx=\"67.4565\" cy=\"67.9399\" rx=\"7.72136\" ry=\"7.72136\" style=\"fill:#F8EEE8;fill-rule:evenodd;stroke:#F8EEE8;stroke-width:1px;stroke-linecap:butt;stroke-linejoin:miter;stroke-opacity:1\"/>\n",
       "<ellipse cx=\"40.1235\" cy=\"77.4953\" rx=\"7.72136\" ry=\"7.72136\" style=\"fill:#C4DEEC;fill-rule:evenodd;stroke:#C4DEEC;stroke-width:1px;stroke-linecap:butt;stroke-linejoin:miter;stroke-opacity:1\"/>\n",
       "<ellipse cx=\"18.1818\" cy=\"58.6019\" rx=\"7.72136\" ry=\"7.72136\" style=\"fill:#E2EDF3;fill-rule:evenodd;stroke:#E2EDF3;stroke-width:1px;stroke-linecap:butt;stroke-linejoin:miter;stroke-opacity:1\"/>\n",
       "<ellipse cx=\"89.3982\" cy=\"86.8332\" rx=\"7.72136\" ry=\"7.72136\" style=\"fill:#CEE3EF;fill-rule:evenodd;stroke:#CEE3EF;stroke-width:1px;stroke-linecap:butt;stroke-linejoin:miter;stroke-opacity:1\"/>\n",
       "<ellipse cx=\"116.731\" cy=\"77.2778\" rx=\"7.72136\" ry=\"7.72136\" style=\"fill:#CCE2EE;fill-rule:evenodd;stroke:#CCE2EE;stroke-width:1px;stroke-linecap:butt;stroke-linejoin:miter;stroke-opacity:1\"/>\n",
       "<ellipse cx=\"138.673\" cy=\"96.1712\" rx=\"7.72136\" ry=\"7.72136\" style=\"fill:#E1ECF3;fill-rule:evenodd;stroke:#E1ECF3;stroke-width:1px;stroke-linecap:butt;stroke-linejoin:miter;stroke-opacity:1\"/>\n",
       "<ellipse cx=\"133.282\" cy=\"124.62\" rx=\"7.72136\" ry=\"7.72136\" style=\"fill:#F8EEE8;fill-rule:evenodd;stroke:#F8EEE8;stroke-width:1px;stroke-linecap:butt;stroke-linejoin:miter;stroke-opacity:1\"/>\n",
       "<ellipse cx=\"155.223\" cy=\"143.513\" rx=\"7.72136\" ry=\"7.72136\" style=\"fill:#F9EAE1;fill-rule:evenodd;stroke:#F9EAE1;stroke-width:1px;stroke-linecap:butt;stroke-linejoin:miter;stroke-opacity:1\"/>\n",
       "<ellipse cx=\"182.556\" cy=\"133.958\" rx=\"7.72136\" ry=\"7.72136\" style=\"fill:#FDDBC7;fill-rule:evenodd;stroke:#FDDBC7;stroke-width:1px;stroke-linecap:butt;stroke-linejoin:miter;stroke-opacity:1\"/>\n",
       "<ellipse cx=\"190.892\" cy=\"106.229\" rx=\"7.72136\" ry=\"7.72136\" style=\"fill:#DCEAF2;fill-rule:evenodd;stroke:#DCEAF2;stroke-width:1px;stroke-linecap:butt;stroke-linejoin:miter;stroke-opacity:1\"/>\n",
       "<ellipse cx=\"219.84\" cy=\"105.587\" rx=\"7.72136\" ry=\"7.72136\" style=\"fill:#D8E8F1;fill-rule:evenodd;stroke:#D8E8F1;stroke-width:1px;stroke-linecap:butt;stroke-linejoin:miter;stroke-opacity:1\"/>\n",
       "<ellipse cx=\"229.395\" cy=\"132.92\" rx=\"7.72136\" ry=\"7.72136\" style=\"fill:#BDDAEA;fill-rule:evenodd;stroke:#BDDAEA;stroke-width:1px;stroke-linecap:butt;stroke-linejoin:miter;stroke-opacity:1\"/>\n",
       "<ellipse cx=\"257.844\" cy=\"138.311\" rx=\"7.72136\" ry=\"7.72136\" style=\"fill:#4393C3;fill-rule:evenodd;stroke:#4393C3;stroke-width:1px;stroke-linecap:butt;stroke-linejoin:miter;stroke-opacity:1\"/>\n",
       "<ellipse cx=\"276.737\" cy=\"116.37\" rx=\"7.72136\" ry=\"7.72136\" style=\"fill:#E8F0F4;fill-rule:evenodd;stroke:#E8F0F4;stroke-width:1px;stroke-linecap:butt;stroke-linejoin:miter;stroke-opacity:1\"/>\n",
       "<ellipse cx=\"267.182\" cy=\"89.0368\" rx=\"7.72136\" ry=\"7.72136\" style=\"fill:#F7B99B;fill-rule:evenodd;stroke:#F7B99B;stroke-width:1px;stroke-linecap:butt;stroke-linejoin:miter;stroke-opacity:1\"/>\n",
       "<ellipse cx=\"286.075\" cy=\"67.0951\" rx=\"7.72136\" ry=\"7.72136\" style=\"fill:#8DC2DC;fill-rule:evenodd;stroke:#8DC2DC;stroke-width:1px;stroke-linecap:butt;stroke-linejoin:miter;stroke-opacity:1\"/>\n",
       "<ellipse cx=\"314.524\" cy=\"72.4864\" rx=\"7.72136\" ry=\"7.72136\" style=\"fill:#9DCAE1;fill-rule:evenodd;stroke:#9DCAE1;stroke-width:1px;stroke-linecap:butt;stroke-linejoin:miter;stroke-opacity:1\"/>\n",
       "<ellipse cx=\"333.417\" cy=\"50.5447\" rx=\"7.72136\" ry=\"7.72136\" style=\"fill:#F8F0EC;fill-rule:evenodd;stroke:#F8F0EC;stroke-width:1px;stroke-linecap:butt;stroke-linejoin:miter;stroke-opacity:1\"/>\n",
       "<ellipse cx=\"361.866\" cy=\"55.936\" rx=\"7.72136\" ry=\"7.72136\" style=\"fill:#DEEBF2;fill-rule:evenodd;stroke:#DEEBF2;stroke-width:1px;stroke-linecap:butt;stroke-linejoin:miter;stroke-opacity:1\"/>\n",
       "<ellipse cx=\"323.862\" cy=\"23.2117\" rx=\"7.72136\" ry=\"7.72136\" style=\"fill:#F8EEE8;fill-rule:evenodd;stroke:#F8EEE8;stroke-width:1px;stroke-linecap:butt;stroke-linejoin:miter;stroke-opacity:1\"/>\n",
       "<ellipse cx=\"238.733\" cy=\"83.6455\" rx=\"7.72136\" ry=\"7.72136\" style=\"fill:#F9EDE7;fill-rule:evenodd;stroke:#F9EDE7;stroke-width:1px;stroke-linecap:butt;stroke-linejoin:miter;stroke-opacity:1\"/>\n",
       "<ellipse cx=\"229.178\" cy=\"56.3125\" rx=\"7.72136\" ry=\"7.72136\" style=\"fill:#F9E9DF;fill-rule:evenodd;stroke:#F9E9DF;stroke-width:1px;stroke-linecap:butt;stroke-linejoin:miter;stroke-opacity:1\"/>\n",
       "<ellipse cx=\"206.353\" cy=\"150.454\" rx=\"7.72136\" ry=\"7.72136\" style=\"fill:#053061;fill-rule:evenodd;stroke:#053061;stroke-width:1px;stroke-linecap:butt;stroke-linejoin:miter;stroke-opacity:1\"/>\n",
       "<ellipse cx=\"206.994\" cy=\"179.402\" rx=\"7.72136\" ry=\"7.72136\" style=\"fill:#B0D4E6;fill-rule:evenodd;stroke:#B0D4E6;stroke-width:1px;stroke-linecap:butt;stroke-linejoin:miter;stroke-opacity:1\"/>\n",
       "<ellipse cx=\"105.949\" cy=\"134.175\" rx=\"7.72136\" ry=\"7.72136\" style=\"fill:#559EC9;fill-rule:evenodd;stroke:#559EC9;stroke-width:1px;stroke-linecap:butt;stroke-linejoin:miter;stroke-opacity:1\"/>\n",
       "<ellipse cx=\"84.0069\" cy=\"115.282\" rx=\"7.72136\" ry=\"7.72136\" style=\"fill:#337DB8;fill-rule:evenodd;stroke:#337DB8;stroke-width:1px;stroke-linecap:butt;stroke-linejoin:miter;stroke-opacity:1\"/>\n",
       "<path d=\"M 50.9061,20.5978 72.8478,39.4911\" style=\"fill:none;fill-rule:evenodd;stroke:#000000;stroke-width:2px;stroke-linecap:butt;stroke-linejoin:miter;stroke-opacity:1\"/>\n",
       "<path d=\"M 72.8478,39.4911 70.6551,51.0613\" style=\"fill:none;fill-rule:evenodd;stroke:#000000;stroke-width:2px;stroke-linecap:butt;stroke-linejoin:miter;stroke-opacity:1\"/>\n",
       "<path d=\"M 70.6551,51.0613 68.4625,62.6314\" style=\"fill:none;fill-rule:evenodd;stroke:#0000FF;stroke-width:2px;stroke-linecap:butt;stroke-linejoin:miter;stroke-opacity:1\"/>\n",
       "<path d=\"M 57.3993,71.4558 48.7614,74.4755\" style=\"fill:none;fill-rule:evenodd;stroke:#0000FF;stroke-width:2px;stroke-linecap:butt;stroke-linejoin:miter;stroke-opacity:1\"/>\n",
       "<path d=\"M 48.7614,74.4755 40.1235,77.4953\" style=\"fill:none;fill-rule:evenodd;stroke:#000000;stroke-width:2px;stroke-linecap:butt;stroke-linejoin:miter;stroke-opacity:1\"/>\n",
       "<path d=\"M 73.6214,73.2483 81.5098,80.0408\" style=\"fill:none;fill-rule:evenodd;stroke:#0000FF;stroke-width:2px;stroke-linecap:butt;stroke-linejoin:miter;stroke-opacity:1\"/>\n",
       "<path d=\"M 81.5098,80.0408 89.3982,86.8332\" style=\"fill:none;fill-rule:evenodd;stroke:#000000;stroke-width:2px;stroke-linecap:butt;stroke-linejoin:miter;stroke-opacity:1\"/>\n",
       "<path d=\"M 40.1235,77.4953 18.1818,58.6019\" style=\"fill:none;fill-rule:evenodd;stroke:#000000;stroke-width:2px;stroke-linecap:butt;stroke-linejoin:miter;stroke-opacity:1\"/>\n",
       "<path d=\"M 89.3982,86.8332 116.731,77.2778\" style=\"fill:none;fill-rule:evenodd;stroke:#000000;stroke-width:2px;stroke-linecap:butt;stroke-linejoin:miter;stroke-opacity:1\"/>\n",
       "<path d=\"M 95.4092,90.8665 114.542,84.1778\" style=\"fill:none;fill-rule:evenodd;stroke:#000000;stroke-width:2px;stroke-linecap:butt;stroke-linejoin:miter;stroke-opacity:1;stroke-dasharray:6,6\"/>\n",
       "<path d=\"M 89.3982,86.8332 84.0069,115.282\" style=\"fill:none;fill-rule:evenodd;stroke:#000000;stroke-width:2px;stroke-linecap:butt;stroke-linejoin:miter;stroke-opacity:1\"/>\n",
       "<path d=\"M 94.2792,92.1788 90.5053,112.093\" style=\"fill:none;fill-rule:evenodd;stroke:#000000;stroke-width:2px;stroke-linecap:butt;stroke-linejoin:miter;stroke-opacity:1;stroke-dasharray:6,6\"/>\n",
       "<path d=\"M 116.731,77.2778 138.673,96.1712\" style=\"fill:none;fill-rule:evenodd;stroke:#000000;stroke-width:2px;stroke-linecap:butt;stroke-linejoin:miter;stroke-opacity:1\"/>\n",
       "<path d=\"M 116.244,84.5002 131.603,97.7255\" style=\"fill:none;fill-rule:evenodd;stroke:#000000;stroke-width:2px;stroke-linecap:butt;stroke-linejoin:miter;stroke-opacity:1;stroke-dasharray:6,6\"/>\n",
       "<path d=\"M 138.673,96.1712 133.282,124.62\" style=\"fill:none;fill-rule:evenodd;stroke:#000000;stroke-width:2px;stroke-linecap:butt;stroke-linejoin:miter;stroke-opacity:1\"/>\n",
       "<path d=\"M 132.174,99.3603 128.401,119.274\" style=\"fill:none;fill-rule:evenodd;stroke:#000000;stroke-width:2px;stroke-linecap:butt;stroke-linejoin:miter;stroke-opacity:1;stroke-dasharray:6,6\"/>\n",
       "<path d=\"M 133.282,124.62 155.223,143.513\" style=\"fill:none;fill-rule:evenodd;stroke:#000000;stroke-width:2px;stroke-linecap:butt;stroke-linejoin:miter;stroke-opacity:1\"/>\n",
       "<path d=\"M 133.282,124.62 105.949,134.175\" style=\"fill:none;fill-rule:evenodd;stroke:#000000;stroke-width:2px;stroke-linecap:butt;stroke-linejoin:miter;stroke-opacity:1\"/>\n",
       "<path d=\"M 127.271,120.587 108.137,127.275\" style=\"fill:none;fill-rule:evenodd;stroke:#000000;stroke-width:2px;stroke-linecap:butt;stroke-linejoin:miter;stroke-opacity:1;stroke-dasharray:6,6\"/>\n",
       "<path d=\"M 155.223,143.513 182.556,133.958\" style=\"fill:none;fill-rule:evenodd;stroke:#000000;stroke-width:2px;stroke-linecap:butt;stroke-linejoin:miter;stroke-opacity:1\"/>\n",
       "<path d=\"M 157.412,136.613 176.545,129.925\" style=\"fill:none;fill-rule:evenodd;stroke:#000000;stroke-width:2px;stroke-linecap:butt;stroke-linejoin:miter;stroke-opacity:1\"/>\n",
       "<path d=\"M 182.556,133.958 185.999,122.506\" style=\"fill:none;fill-rule:evenodd;stroke:#000000;stroke-width:2px;stroke-linecap:butt;stroke-linejoin:miter;stroke-opacity:1\"/>\n",
       "<path d=\"M 185.999,122.506 189.441,111.054\" style=\"fill:none;fill-rule:evenodd;stroke:#FF0000;stroke-width:2px;stroke-linecap:butt;stroke-linejoin:miter;stroke-opacity:1\"/>\n",
       "<path d=\"M 182.556,133.958 206.353,150.454\" style=\"fill:none;fill-rule:evenodd;stroke:#000000;stroke-width:2px;stroke-linecap:butt;stroke-linejoin:miter;stroke-opacity:1\"/>\n",
       "<path d=\"M 195.399,106.129 207.619,105.858\" style=\"fill:none;fill-rule:evenodd;stroke:#FF0000;stroke-width:2px;stroke-linecap:butt;stroke-linejoin:miter;stroke-opacity:1\"/>\n",
       "<path d=\"M 207.619,105.858 219.84,105.587\" style=\"fill:none;fill-rule:evenodd;stroke:#000000;stroke-width:2px;stroke-linecap:butt;stroke-linejoin:miter;stroke-opacity:1\"/>\n",
       "<path d=\"M 219.84,105.587 229.395,132.92\" style=\"fill:none;fill-rule:evenodd;stroke:#000000;stroke-width:2px;stroke-linecap:butt;stroke-linejoin:miter;stroke-opacity:1\"/>\n",
       "<path d=\"M 215.806,111.598 222.495,130.731\" style=\"fill:none;fill-rule:evenodd;stroke:#000000;stroke-width:2px;stroke-linecap:butt;stroke-linejoin:miter;stroke-opacity:1;stroke-dasharray:6,6\"/>\n",
       "<path d=\"M 219.84,105.587 238.733,83.6455\" style=\"fill:none;fill-rule:evenodd;stroke:#000000;stroke-width:2px;stroke-linecap:butt;stroke-linejoin:miter;stroke-opacity:1\"/>\n",
       "<path d=\"M 227.062,106.075 240.287,90.7154\" style=\"fill:none;fill-rule:evenodd;stroke:#000000;stroke-width:2px;stroke-linecap:butt;stroke-linejoin:miter;stroke-opacity:1;stroke-dasharray:6,6\"/>\n",
       "<path d=\"M 229.395,132.92 257.844,138.311\" style=\"fill:none;fill-rule:evenodd;stroke:#000000;stroke-width:2px;stroke-linecap:butt;stroke-linejoin:miter;stroke-opacity:1\"/>\n",
       "<path d=\"M 234.741,128.039 254.655,131.813\" style=\"fill:none;fill-rule:evenodd;stroke:#000000;stroke-width:2px;stroke-linecap:butt;stroke-linejoin:miter;stroke-opacity:1;stroke-dasharray:6,6\"/>\n",
       "<path d=\"M 229.395,132.92 206.353,150.454\" style=\"fill:none;fill-rule:evenodd;stroke:#000000;stroke-width:2px;stroke-linecap:butt;stroke-linejoin:miter;stroke-opacity:1\"/>\n",
       "<path d=\"M 257.844,138.311 276.737,116.37\" style=\"fill:none;fill-rule:evenodd;stroke:#000000;stroke-width:2px;stroke-linecap:butt;stroke-linejoin:miter;stroke-opacity:1\"/>\n",
       "<path d=\"M 256.289,131.242 269.515,115.882\" style=\"fill:none;fill-rule:evenodd;stroke:#000000;stroke-width:2px;stroke-linecap:butt;stroke-linejoin:miter;stroke-opacity:1;stroke-dasharray:6,6\"/>\n",
       "<path d=\"M 276.737,116.37 267.182,89.0368\" style=\"fill:none;fill-rule:evenodd;stroke:#000000;stroke-width:2px;stroke-linecap:butt;stroke-linejoin:miter;stroke-opacity:1\"/>\n",
       "<path d=\"M 269.837,114.181 263.148,95.0478\" style=\"fill:none;fill-rule:evenodd;stroke:#000000;stroke-width:2px;stroke-linecap:butt;stroke-linejoin:miter;stroke-opacity:1;stroke-dasharray:6,6\"/>\n",
       "<path d=\"M 267.182,89.0368 274.551,80.4789\" style=\"fill:none;fill-rule:evenodd;stroke:#000000;stroke-width:2px;stroke-linecap:butt;stroke-linejoin:miter;stroke-opacity:1\"/>\n",
       "<path d=\"M 274.551,80.4789 281.92,71.921\" style=\"fill:none;fill-rule:evenodd;stroke:#FF0000;stroke-width:2px;stroke-linecap:butt;stroke-linejoin:miter;stroke-opacity:1\"/>\n",
       "<path d=\"M 267.182,89.0368 238.733,83.6455\" style=\"fill:none;fill-rule:evenodd;stroke:#000000;stroke-width:2px;stroke-linecap:butt;stroke-linejoin:miter;stroke-opacity:1\"/>\n",
       "<path d=\"M 261.836,93.9179 241.922,90.144\" style=\"fill:none;fill-rule:evenodd;stroke:#000000;stroke-width:2px;stroke-linecap:butt;stroke-linejoin:miter;stroke-opacity:1;stroke-dasharray:6,6\"/>\n",
       "<path d=\"M 290.582,67.9493 302.553,70.2178\" style=\"fill:none;fill-rule:evenodd;stroke:#FF0000;stroke-width:2px;stroke-linecap:butt;stroke-linejoin:miter;stroke-opacity:1\"/>\n",
       "<path d=\"M 302.553,70.2178 314.524,72.4864\" style=\"fill:none;fill-rule:evenodd;stroke:#000000;stroke-width:2px;stroke-linecap:butt;stroke-linejoin:miter;stroke-opacity:1\"/>\n",
       "<path d=\"M 314.524,72.4864 333.417,50.5447\" style=\"fill:none;fill-rule:evenodd;stroke:#000000;stroke-width:2px;stroke-linecap:butt;stroke-linejoin:miter;stroke-opacity:1\"/>\n",
       "<path d=\"M 333.417,50.5447 342.654,52.2951\" style=\"fill:none;fill-rule:evenodd;stroke:#000000;stroke-width:2px;stroke-linecap:butt;stroke-linejoin:miter;stroke-opacity:1\"/>\n",
       "<path d=\"M 342.654,52.2951 351.89,54.0454\" style=\"fill:none;fill-rule:evenodd;stroke:#0000FF;stroke-width:2px;stroke-linecap:butt;stroke-linejoin:miter;stroke-opacity:1\"/>\n",
       "<path d=\"M 336.15,49.5892 332.216,38.3356\" style=\"fill:none;fill-rule:evenodd;stroke:#000000;stroke-width:2px;stroke-linecap:butt;stroke-linejoin:miter;stroke-opacity:1\"/>\n",
       "<path d=\"M 332.216,38.3356 328.282,27.082\" style=\"fill:none;fill-rule:evenodd;stroke:#FF0000;stroke-width:2px;stroke-linecap:butt;stroke-linejoin:miter;stroke-opacity:1\"/>\n",
       "<path d=\"M 330.684,51.5002 326.75,40.2467\" style=\"fill:none;fill-rule:evenodd;stroke:#000000;stroke-width:2px;stroke-linecap:butt;stroke-linejoin:miter;stroke-opacity:1\"/>\n",
       "<path d=\"M 326.75,40.2467 322.816,28.9931\" style=\"fill:none;fill-rule:evenodd;stroke:#FF0000;stroke-width:2px;stroke-linecap:butt;stroke-linejoin:miter;stroke-opacity:1\"/>\n",
       "<path d=\"M 238.733,83.6455 229.178,56.3125\" style=\"fill:none;fill-rule:evenodd;stroke:#000000;stroke-width:2px;stroke-linecap:butt;stroke-linejoin:miter;stroke-opacity:1\"/>\n",
       "<path d=\"M 203.458,150.518 203.725,162.579\" style=\"fill:none;fill-rule:evenodd;stroke:#000000;stroke-width:2px;stroke-linecap:butt;stroke-linejoin:miter;stroke-opacity:1\"/>\n",
       "<path d=\"M 203.725,162.579 203.992,174.641\" style=\"fill:none;fill-rule:evenodd;stroke:#FF0000;stroke-width:2px;stroke-linecap:butt;stroke-linejoin:miter;stroke-opacity:1\"/>\n",
       "<path d=\"M 209.247,150.39 209.515,162.451\" style=\"fill:none;fill-rule:evenodd;stroke:#000000;stroke-width:2px;stroke-linecap:butt;stroke-linejoin:miter;stroke-opacity:1\"/>\n",
       "<path d=\"M 209.515,162.451 209.782,174.512\" style=\"fill:none;fill-rule:evenodd;stroke:#FF0000;stroke-width:2px;stroke-linecap:butt;stroke-linejoin:miter;stroke-opacity:1\"/>\n",
       "<path d=\"M 105.949,134.175 84.0069,115.282\" style=\"fill:none;fill-rule:evenodd;stroke:#000000;stroke-width:2px;stroke-linecap:butt;stroke-linejoin:miter;stroke-opacity:1\"/>\n",
       "<path d=\"M 106.436,126.953 91.0768,113.728\" style=\"fill:none;fill-rule:evenodd;stroke:#000000;stroke-width:2px;stroke-linecap:butt;stroke-linejoin:miter;stroke-opacity:1;stroke-dasharray:6,6\"/>\n",
       "<text style=\"font-size:9px;font-style:normal;font-weight:normal;fill-opacity:1;stroke:none;font-family:sans-serif;text-anchor:start;fill:#0000FF\" x=\"57.3993\" y=\"73.2483\"><tspan>NH</tspan><tspan style=\"baseline-shift:super;font-size:6.75px;\">+</tspan><tspan/></text>\n",
       "<text style=\"font-size:9px;font-style:normal;font-weight:normal;fill-opacity:1;stroke:none;font-family:sans-serif;text-anchor:start;fill:#FF0000\" x=\"186.384\" y=\"111.054\"><tspan>O</tspan></text>\n",
       "<text style=\"font-size:9px;font-style:normal;font-weight:normal;fill-opacity:1;stroke:none;font-family:sans-serif;text-anchor:start;fill:#FF0000\" x=\"281.568\" y=\"71.921\"><tspan>O</tspan></text>\n",
       "<text style=\"font-size:9px;font-style:normal;font-weight:normal;fill-opacity:1;stroke:none;font-family:sans-serif;text-anchor:start;fill:#0000FF\" x=\"351.89\" y=\"61.2444\"><tspan>NH</tspan><tspan style=\"baseline-shift:sub;font-size:6.75px;\">2</tspan><tspan/></text>\n",
       "<text style=\"font-size:9px;font-style:normal;font-weight:normal;fill-opacity:1;stroke:none;font-family:sans-serif;text-anchor:start;fill:#FF0000\" x=\"319.355\" y=\"28.0376\"><tspan>O</tspan></text>\n",
       "<text style=\"font-size:9px;font-style:normal;font-weight:normal;fill-opacity:1;stroke:none;font-family:sans-serif;text-anchor:start;fill:#FF0000\" x=\"202.487\" y=\"184.228\"><tspan>O</tspan></text>\n",
       "</svg>"
      ],
      "text/plain": [
       "<IPython.core.display.SVG object>"
      ]
     },
     "execution_count": 204,
     "metadata": {},
     "output_type": "execute_result"
    }
   ],
   "source": [
    "SVG(draw4())"
   ]
  },
  {
   "cell_type": "code",
   "execution_count": 203,
   "metadata": {},
   "outputs": [],
   "source": [
    "preds = logits.data.numpy() > 0.5"
   ]
  },
  {
   "cell_type": "code",
   "execution_count": 68,
   "metadata": {},
   "outputs": [
    {
     "data": {
      "text/html": [
       "<div>\n",
       "<style scoped>\n",
       "    .dataframe tbody tr th:only-of-type {\n",
       "        vertical-align: middle;\n",
       "    }\n",
       "\n",
       "    .dataframe tbody tr th {\n",
       "        vertical-align: top;\n",
       "    }\n",
       "\n",
       "    .dataframe thead th {\n",
       "        text-align: right;\n",
       "    }\n",
       "</style>\n",
       "<table border=\"1\" class=\"dataframe\">\n",
       "  <thead>\n",
       "    <tr style=\"text-align: right;\">\n",
       "      <th></th>\n",
       "      <th>NR-AR</th>\n",
       "      <th>NR-AR-LBD</th>\n",
       "      <th>NR-AhR</th>\n",
       "      <th>NR-Aromatase</th>\n",
       "      <th>NR-ER</th>\n",
       "      <th>NR-ER-LBD</th>\n",
       "      <th>NR-PPAR-gamma</th>\n",
       "      <th>SR-ARE</th>\n",
       "      <th>SR-ATAD5</th>\n",
       "      <th>SR-HSE</th>\n",
       "      <th>SR-MMP</th>\n",
       "      <th>SR-p53</th>\n",
       "    </tr>\n",
       "  </thead>\n",
       "  <tbody>\n",
       "    <tr>\n",
       "      <th>0</th>\n",
       "      <td>False</td>\n",
       "      <td>False</td>\n",
       "      <td>True</td>\n",
       "      <td>False</td>\n",
       "      <td>True</td>\n",
       "      <td>False</td>\n",
       "      <td>True</td>\n",
       "      <td>False</td>\n",
       "      <td>True</td>\n",
       "      <td>False</td>\n",
       "      <td>False</td>\n",
       "      <td>True</td>\n",
       "    </tr>\n",
       "  </tbody>\n",
       "</table>\n",
       "</div>"
      ],
      "text/plain": [
       "   NR-AR  NR-AR-LBD  NR-AhR  NR-Aromatase  NR-ER  NR-ER-LBD  NR-PPAR-gamma  \\\n",
       "0  False      False    True         False   True      False           True   \n",
       "\n",
       "   SR-ARE  SR-ATAD5  SR-HSE  SR-MMP  SR-p53  \n",
       "0   False      True   False   False    True  "
      ]
     },
     "execution_count": 68,
     "metadata": {},
     "output_type": "execute_result"
    }
   ],
   "source": [
    "import pandas as pd\n",
    "pd.DataFrame(preds, columns=tasks)"
   ]
  }
 ],
 "metadata": {
  "kernelspec": {
   "display_name": "Environment (conda_miniconda3-latest)",
   "language": "python",
   "name": "conda_miniconda3-latest"
  },
  "language_info": {
   "codemirror_mode": {
    "name": "ipython",
    "version": 3
   },
   "file_extension": ".py",
   "mimetype": "text/x-python",
   "name": "python",
   "nbconvert_exporter": "python",
   "pygments_lexer": "ipython3",
   "version": "3.7.1"
  }
 },
 "nbformat": 4,
 "nbformat_minor": 2
}
